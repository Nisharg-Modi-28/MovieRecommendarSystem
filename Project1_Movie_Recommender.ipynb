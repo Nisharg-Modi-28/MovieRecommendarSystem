{
  "nbformat": 4,
  "nbformat_minor": 0,
  "metadata": {
    "colab": {
      "provenance": []
    },
    "kernelspec": {
      "name": "python3",
      "display_name": "Python 3"
    },
    "language_info": {
      "name": "python"
    }
  },
  "cells": [
    {
      "cell_type": "code",
      "execution_count": null,
      "metadata": {
        "id": "n0UzinxhRCFB"
      },
      "outputs": [],
      "source": [
        "import numpy as np\n",
        "import pandas as pd"
      ]
    },
    {
      "cell_type": "code",
      "source": [
        "# movies = pd.read_csv('tmdb_5000_movies.csv')\n",
        "# credits = pd.read_csv('tmdb_5000_credits.csv')"
      ],
      "metadata": {
        "id": "0V_BtEtuRpoy"
      },
      "execution_count": null,
      "outputs": []
    },
    {
      "cell_type": "code",
      "source": [
        "# movies.head()['budget']\n",
        "# movies = movies.merge(credits,on='title')"
      ],
      "metadata": {
        "id": "Ur51TtkcS4V8"
      },
      "execution_count": null,
      "outputs": []
    },
    {
      "cell_type": "code",
      "source": [
        "# movies.info()"
      ],
      "metadata": {
        "id": "c88nGjJqUE-3"
      },
      "execution_count": null,
      "outputs": []
    },
    {
      "cell_type": "markdown",
      "metadata": {
        "id": "790048c1"
      },
      "source": [
        "First, you need to mount your Google Drive to access the files stored there."
      ]
    },
    {
      "cell_type": "code",
      "metadata": {
        "id": "a1ec2acb"
      },
      "source": [
        "# from google.colab import drive\n",
        "# drive.mount('/content/drive')"
      ],
      "execution_count": null,
      "outputs": []
    },
    {
      "cell_type": "markdown",
      "metadata": {
        "id": "7b69d531"
      },
      "source": [
        "After mounting, you can access your files by navigating through the `/content/drive/My Drive/` path. For example, if your file `tmdb_5000_movies.csv` is in the root of your Google Drive, the path would be `/content/drive/My Drive/tmdb_5000_movies.csv`.\n",
        "\n",
        "Now you can load your CSV files using the correct path:"
      ]
    },
    {
      "cell_type": "code",
      "metadata": {
        "colab": {
          "base_uri": "https://localhost:8080/"
        },
        "id": "bf9f4a26",
        "outputId": "6c23ea30-6382-4847-98c3-d1c81a0fb9b4"
      },
      "source": [
        "movies = pd.read_csv('/content/drive/My Drive/tmdb_5000_movies.csv')\n",
        "credits = pd.read_csv('/content/drive/My Drive/tmdb_5000_credits.csv')"
      ],
      "execution_count": null,
      "outputs": [
        {
          "output_type": "stream",
          "name": "stderr",
          "text": [
            "/tmp/ipython-input-3948080078.py:2: DtypeWarning: Columns (0,4,5,6,7,8,9,10,11,12,13,14,15,16,17,18,19,20,21,22,23,24,25,26,27,28,29,30,31,32,33,34,35,36,37,38,39,40,41,42,43,44,45,46,47,48,49,50,51,52,53,54,55,56,57,58,59,60,61,62,63,64,65,66,67,68,69,70,71,72,73,74,75,76,77,78,79,80,81,82,83,84,85,86,87,88,89,90,91,92,93,94,95,96,97,98,99,100,101,102,103,104,105,106,107,108,109,110,111,112,113,114,115,116,117,118,119,120,121,122,123,124,125,126,127,128,129,130,131,132,133,134,135,136,137,138,139,140,141,142,143,144,145,146,147,148,149,150,151,152,153,154,155,156,157,158,159,160,161,162,163,164,165,166,167,168,169,170,171,172,173,174,175,176,177,178,179,180,181,182,183,184,185,186,187,188,189,190,191,192,193,194,195,196,197,198,199,200,201,202,203,204,205,206,207,208,209,210,211,212,213,214,215,216,217,218,219,220,221,222,223,224,225,226,227,228,229,230,231,232,233,234,235,236,237,238,239,240,241,242,243,244,245,246,247,248,249,250,251,252,253,254,255,256,257,258,259,260,261,262,263,264,265,266,267,268,269,270,271,272,273,274,275,276,277,278,279,280,281,282,283,284,285,286,287,288,289,290,291,292,293,294,295,296,297,298,299,300,301,302,303,304,305,306,307,308,309,310,311,312,313,314,315,316,317,318,319,320,321,322,323,324,325,326,327,328,329,330,331,332,333,334,335,336,337,338,339,340,341,342,343,344,345,346,347,348,349,350,351,352,353,354,355,356,357,358,359,360,361,362,363,364,365,366,367,368,369,370,371,372,373,374,375,376,377,378,379,380,381,382,383,384,385,386,387,388,389,390,391,392,393,394,395,396,397,398,399,400,401,402,403,404,405,406,407,408,409,410,411,412,413,414,415,416,417,418,419,420,421,422,423,424,425,426,427,428,429,430,431,432,433,434,435,436,437,438,439,440,441,442,443,444,445,446,447,448,449,450,451,452,453,454,455,456,457,458,459,460,461,462,463,464,465,466,467,468,469,470,471,472,473,474,475,476,477,478,479,480,481,482,483,484,485,486,487,488,489,490,491,492,493,494,495,496,497,498,499,500,501,502,503,504,505,506,507,508,509,510,511,512,513,514,515,516,517,518,519,520,521,522,523,524,525,526,527,528,529,530,531,532,533,534,535,536,537,538,539,540,541,542,543,544,545,546,547,548,549,550,551,552,553,554,555,556,557,558,559,560,561,562,563,564,565,566,567,568,569,570,571,572,573,574,575,576,577,578,579,580,581,582,583,584,585,586,587,588,589,590,591,592,593,594,595,596,597,598,599,600,601,602,603,604,605,606,607,608,609,610,611,612,613,614,615,616,617,618,619,620,621,622,623,624,625,626,627,628,629,630,631,632,633,634,635,636,637,638,639,640,641,642,643,644,645,646,647,648,649,650,651,652,653,654,655,656,657,658,659,660,661,662,663,664,665,666,667,668,669,670,671,672,673,674,675,676,677,678,679,680,681,682,683,684,685,686,687,688,689,690,691,692,693,694,695,696,697,698,699,700,701,702,703,704,705,706,707,708,709,710,711,712,713,714,715,716,717,718,719,720,721,722,723,724,725,726,727,728,729,730,731,732,733,734,735,736,737,738,739,740,741,742,743,744,745,746,747,748,749,750,751,752,753,754,755,756,757,758,759,760,761,762,763,764,765,766,767,768,769,770,771,772,773,774,775,776,777,778,779,780,781,782,783,784,785,786,787,788,789,790,791,792,793,794,795,796,797,798,799,800,801,802,803,804,805,806,807,808,809,810,811,812,813,814,815,816,817,818,819,820,821,822,823,824,825,826,827,828,829,830,831,832,833,834,835,836,837,838,839,840,841,842,843,844,845,846,847,848,849,850,851,852,853,854,855,856,857,858,859,860,861,862,863,864,865,866,867,868,869,870,871,872,873,874,875,876,877,878,879,880,881,882,883,884,885,886,887,888,889,890,891,892,893,894,895,896,897,898,899,900,901,902,903,904,905,906,907,908,909,910,911,912,913,914,915,916,917,918,919,920,921,922,923,924,925,926,927,928,929,930,931,932,933,934,935,936,937,938,939,940,941,942,943,944,945,946,947,948,949,950,951,952,953,954,955,956,957,958,959,960,961,962,963,964,965,966,967,968,969,970,971,972,973,974,975,976,977,978,979,980,981,982,983,984,985,986,987,988,989,990,991,992,993,994,995,996,997,998,999,1000,1001,1002,1003,1004,1005,1006,1007,1008,1009,1010,1011,1012,1013,1014,1015,1016,1017,1018,1019,1020,1021,1022,1023,1024,1025,1026,1027,1028,1029,1030,1031,1032,1033,1034,1035,1036,1037,1038,1039,1040,1041,1042,1043,1044,1045,1046,1047,1048,1049,1050,1051,1052,1053,1054,1055,1056,1057,1058,1059,1060,1061,1062,1063,1064,1065,1066,1067,1068,1069,1070,1071,1072,1073,1074,1075,1076,1077,1078,1079,1080,1081,1082,1083,1084,1085,1086,1087,1088,1089,1090,1091,1092,1093,1094,1095,1096,1097,1098,1099,1100,1101,1102,1103,1104,1105,1106,1107,1108,1109,1110,1111,1112,1113,1114,1115,1116,1117,1118,1119,1120,1121,1122,1123,1124,1125,1126,1127,1128,1129,1130,1131,1132,1133,1134,1135,1136,1137,1138,1139,1140,1141,1142,1143,1144,1145,1146,1147,1148,1149,1150,1151,1152,1153,1154,1155,1156,1157,1158,1159,1160,1161,1162,1163,1164,1165,1166,1167,1168,1169,1170,1171,1172,1173,1174,1175,1176,1177,1178,1179,1180,1181,1182,1183,1184,1185,1186,1187,1188,1189,1190,1191,1192,1193,1194,1195,1196,1197,1198,1199,1200,1201,1202,1203,1204,1205,1206,1207,1208,1209,1210,1211,1212,1213,1214,1215,1216,1217,1218,1219,1220,1221,1222,1223,1224,1225,1226,1227,1228,1229,1230,1231,1232,1233,1234,1235,1236,1237,1238,1239,1240,1241,1242,1243,1244,1245,1246,1247,1248,1249,1250,1251,1252,1253,1254,1255,1256,1257,1258,1259,1260,1261,1262,1263,1264) have mixed types. Specify dtype option on import or set low_memory=False.\n",
            "  credits = pd.read_csv('/content/drive/My Drive/tmdb_5000_credits.csv')\n"
          ]
        }
      ]
    },
    {
      "cell_type": "code",
      "source": [
        "movies.shape"
      ],
      "metadata": {
        "colab": {
          "base_uri": "https://localhost:8080/"
        },
        "id": "4EGL04oaL9_y",
        "outputId": "71a50e65-e5a8-48f2-f6ec-4eb46805e9c5"
      },
      "execution_count": null,
      "outputs": [
        {
          "output_type": "execute_result",
          "data": {
            "text/plain": [
              "(4803, 20)"
            ]
          },
          "metadata": {},
          "execution_count": 13
        }
      ]
    },
    {
      "cell_type": "code",
      "source": [
        "# movies.head()['budget']\n",
        "movies = movies.merge(credits,on='title')"
      ],
      "metadata": {
        "id": "oUIqumjGMfHy"
      },
      "execution_count": null,
      "outputs": []
    },
    {
      "cell_type": "code",
      "source": [
        "movies.shape"
      ],
      "metadata": {
        "colab": {
          "base_uri": "https://localhost:8080/"
        },
        "id": "_Fx-fBtiMkU5",
        "outputId": "7615bc83-8949-460d-f59b-83326e9af22d"
      },
      "execution_count": null,
      "outputs": [
        {
          "output_type": "execute_result",
          "data": {
            "text/plain": [
              "(4808, 1284)"
            ]
          },
          "metadata": {},
          "execution_count": 15
        }
      ]
    },
    {
      "cell_type": "code",
      "source": [
        "df = movies[['movie_id','title','overview','genres','keywords','cast','crew']]\n"
      ],
      "metadata": {
        "id": "ivG_L0JIRCni"
      },
      "execution_count": null,
      "outputs": []
    },
    {
      "cell_type": "code",
      "source": [
        "df.head()"
      ],
      "metadata": {
        "colab": {
          "base_uri": "https://localhost:8080/",
          "height": 379
        },
        "id": "9VVfeiueSX8O",
        "outputId": "a3c9d8f9-157e-4ef7-d123-2db1694d4109"
      },
      "execution_count": null,
      "outputs": [
        {
          "output_type": "execute_result",
          "data": {
            "text/plain": [
              "  movie_id                                     title  \\\n",
              "0    19995                                    Avatar   \n",
              "1      285  Pirates of the Caribbean: At World's End   \n",
              "2   206647                                   Spectre   \n",
              "3    49026                     The Dark Knight Rises   \n",
              "4    49529                               John Carter   \n",
              "\n",
              "                                            overview  \\\n",
              "0  In the 22nd century, a paraplegic Marine is di...   \n",
              "1  Captain Barbossa, long believed to be dead, ha...   \n",
              "2  A cryptic message from Bond’s past sends him o...   \n",
              "3  Following the death of District Attorney Harve...   \n",
              "4  John Carter is a war-weary, former military ca...   \n",
              "\n",
              "                                              genres  \\\n",
              "0  [{\"id\": 28, \"name\": \"Action\"}, {\"id\": 12, \"nam...   \n",
              "1  [{\"id\": 12, \"name\": \"Adventure\"}, {\"id\": 14, \"...   \n",
              "2  [{\"id\": 28, \"name\": \"Action\"}, {\"id\": 12, \"nam...   \n",
              "3  [{\"id\": 28, \"name\": \"Action\"}, {\"id\": 80, \"nam...   \n",
              "4  [{\"id\": 28, \"name\": \"Action\"}, {\"id\": 12, \"nam...   \n",
              "\n",
              "                                            keywords  \\\n",
              "0  [{\"id\": 1463, \"name\": \"culture clash\"}, {\"id\":...   \n",
              "1  [{\"id\": 270, \"name\": \"ocean\"}, {\"id\": 726, \"na...   \n",
              "2  [{\"id\": 470, \"name\": \"spy\"}, {\"id\": 818, \"name...   \n",
              "3  [{\"id\": 849, \"name\": \"dc comics\"}, {\"id\": 853,...   \n",
              "4  [{\"id\": 818, \"name\": \"based on novel\"}, {\"id\":...   \n",
              "\n",
              "                                                cast  \\\n",
              "0  [{\"cast_id\": 242, \"character\": \"Jake Sully\", \"...   \n",
              "1  [{\"cast_id\": 4, \"character\": \"Captain Jack Spa...   \n",
              "2  [{\"cast_id\": 1, \"character\": \"James Bond\", \"cr...   \n",
              "3  [{\"cast_id\": 2, \"character\": \"Bruce Wayne / Ba...   \n",
              "4  [{\"cast_id\": 5, \"character\": \"John Carter\", \"c...   \n",
              "\n",
              "                                                crew  \n",
              "0  [{\"credit_id\": \"52fe48009251416c750aca23\", \"de...  \n",
              "1  [{\"credit_id\": \"52fe4232c3a36847f800b579\", \"de...  \n",
              "2  [{\"credit_id\": \"54805967c3a36829b5002c41\", \"de...  \n",
              "3  [{\"credit_id\": \"52fe4781c3a36847f81398c3\", \"de...  \n",
              "4  [{\"credit_id\": \"52fe479ac3a36847f813eaa3\", \"de...  "
            ],
            "text/html": [
              "\n",
              "  <div id=\"df-8a63a5e0-1090-4b76-b6a8-e816b66e8016\" class=\"colab-df-container\">\n",
              "    <div>\n",
              "<style scoped>\n",
              "    .dataframe tbody tr th:only-of-type {\n",
              "        vertical-align: middle;\n",
              "    }\n",
              "\n",
              "    .dataframe tbody tr th {\n",
              "        vertical-align: top;\n",
              "    }\n",
              "\n",
              "    .dataframe thead th {\n",
              "        text-align: right;\n",
              "    }\n",
              "</style>\n",
              "<table border=\"1\" class=\"dataframe\">\n",
              "  <thead>\n",
              "    <tr style=\"text-align: right;\">\n",
              "      <th></th>\n",
              "      <th>movie_id</th>\n",
              "      <th>title</th>\n",
              "      <th>overview</th>\n",
              "      <th>genres</th>\n",
              "      <th>keywords</th>\n",
              "      <th>cast</th>\n",
              "      <th>crew</th>\n",
              "    </tr>\n",
              "  </thead>\n",
              "  <tbody>\n",
              "    <tr>\n",
              "      <th>0</th>\n",
              "      <td>19995</td>\n",
              "      <td>Avatar</td>\n",
              "      <td>In the 22nd century, a paraplegic Marine is di...</td>\n",
              "      <td>[{\"id\": 28, \"name\": \"Action\"}, {\"id\": 12, \"nam...</td>\n",
              "      <td>[{\"id\": 1463, \"name\": \"culture clash\"}, {\"id\":...</td>\n",
              "      <td>[{\"cast_id\": 242, \"character\": \"Jake Sully\", \"...</td>\n",
              "      <td>[{\"credit_id\": \"52fe48009251416c750aca23\", \"de...</td>\n",
              "    </tr>\n",
              "    <tr>\n",
              "      <th>1</th>\n",
              "      <td>285</td>\n",
              "      <td>Pirates of the Caribbean: At World's End</td>\n",
              "      <td>Captain Barbossa, long believed to be dead, ha...</td>\n",
              "      <td>[{\"id\": 12, \"name\": \"Adventure\"}, {\"id\": 14, \"...</td>\n",
              "      <td>[{\"id\": 270, \"name\": \"ocean\"}, {\"id\": 726, \"na...</td>\n",
              "      <td>[{\"cast_id\": 4, \"character\": \"Captain Jack Spa...</td>\n",
              "      <td>[{\"credit_id\": \"52fe4232c3a36847f800b579\", \"de...</td>\n",
              "    </tr>\n",
              "    <tr>\n",
              "      <th>2</th>\n",
              "      <td>206647</td>\n",
              "      <td>Spectre</td>\n",
              "      <td>A cryptic message from Bond’s past sends him o...</td>\n",
              "      <td>[{\"id\": 28, \"name\": \"Action\"}, {\"id\": 12, \"nam...</td>\n",
              "      <td>[{\"id\": 470, \"name\": \"spy\"}, {\"id\": 818, \"name...</td>\n",
              "      <td>[{\"cast_id\": 1, \"character\": \"James Bond\", \"cr...</td>\n",
              "      <td>[{\"credit_id\": \"54805967c3a36829b5002c41\", \"de...</td>\n",
              "    </tr>\n",
              "    <tr>\n",
              "      <th>3</th>\n",
              "      <td>49026</td>\n",
              "      <td>The Dark Knight Rises</td>\n",
              "      <td>Following the death of District Attorney Harve...</td>\n",
              "      <td>[{\"id\": 28, \"name\": \"Action\"}, {\"id\": 80, \"nam...</td>\n",
              "      <td>[{\"id\": 849, \"name\": \"dc comics\"}, {\"id\": 853,...</td>\n",
              "      <td>[{\"cast_id\": 2, \"character\": \"Bruce Wayne / Ba...</td>\n",
              "      <td>[{\"credit_id\": \"52fe4781c3a36847f81398c3\", \"de...</td>\n",
              "    </tr>\n",
              "    <tr>\n",
              "      <th>4</th>\n",
              "      <td>49529</td>\n",
              "      <td>John Carter</td>\n",
              "      <td>John Carter is a war-weary, former military ca...</td>\n",
              "      <td>[{\"id\": 28, \"name\": \"Action\"}, {\"id\": 12, \"nam...</td>\n",
              "      <td>[{\"id\": 818, \"name\": \"based on novel\"}, {\"id\":...</td>\n",
              "      <td>[{\"cast_id\": 5, \"character\": \"John Carter\", \"c...</td>\n",
              "      <td>[{\"credit_id\": \"52fe479ac3a36847f813eaa3\", \"de...</td>\n",
              "    </tr>\n",
              "  </tbody>\n",
              "</table>\n",
              "</div>\n",
              "    <div class=\"colab-df-buttons\">\n",
              "\n",
              "  <div class=\"colab-df-container\">\n",
              "    <button class=\"colab-df-convert\" onclick=\"convertToInteractive('df-8a63a5e0-1090-4b76-b6a8-e816b66e8016')\"\n",
              "            title=\"Convert this dataframe to an interactive table.\"\n",
              "            style=\"display:none;\">\n",
              "\n",
              "  <svg xmlns=\"http://www.w3.org/2000/svg\" height=\"24px\" viewBox=\"0 -960 960 960\">\n",
              "    <path d=\"M120-120v-720h720v720H120Zm60-500h600v-160H180v160Zm220 220h160v-160H400v160Zm0 220h160v-160H400v160ZM180-400h160v-160H180v160Zm440 0h160v-160H620v160ZM180-180h160v-160H180v160Zm440 0h160v-160H620v160Z\"/>\n",
              "  </svg>\n",
              "    </button>\n",
              "\n",
              "  <style>\n",
              "    .colab-df-container {\n",
              "      display:flex;\n",
              "      gap: 12px;\n",
              "    }\n",
              "\n",
              "    .colab-df-convert {\n",
              "      background-color: #E8F0FE;\n",
              "      border: none;\n",
              "      border-radius: 50%;\n",
              "      cursor: pointer;\n",
              "      display: none;\n",
              "      fill: #1967D2;\n",
              "      height: 32px;\n",
              "      padding: 0 0 0 0;\n",
              "      width: 32px;\n",
              "    }\n",
              "\n",
              "    .colab-df-convert:hover {\n",
              "      background-color: #E2EBFA;\n",
              "      box-shadow: 0px 1px 2px rgba(60, 64, 67, 0.3), 0px 1px 3px 1px rgba(60, 64, 67, 0.15);\n",
              "      fill: #174EA6;\n",
              "    }\n",
              "\n",
              "    .colab-df-buttons div {\n",
              "      margin-bottom: 4px;\n",
              "    }\n",
              "\n",
              "    [theme=dark] .colab-df-convert {\n",
              "      background-color: #3B4455;\n",
              "      fill: #D2E3FC;\n",
              "    }\n",
              "\n",
              "    [theme=dark] .colab-df-convert:hover {\n",
              "      background-color: #434B5C;\n",
              "      box-shadow: 0px 1px 3px 1px rgba(0, 0, 0, 0.15);\n",
              "      filter: drop-shadow(0px 1px 2px rgba(0, 0, 0, 0.3));\n",
              "      fill: #FFFFFF;\n",
              "    }\n",
              "  </style>\n",
              "\n",
              "    <script>\n",
              "      const buttonEl =\n",
              "        document.querySelector('#df-8a63a5e0-1090-4b76-b6a8-e816b66e8016 button.colab-df-convert');\n",
              "      buttonEl.style.display =\n",
              "        google.colab.kernel.accessAllowed ? 'block' : 'none';\n",
              "\n",
              "      async function convertToInteractive(key) {\n",
              "        const element = document.querySelector('#df-8a63a5e0-1090-4b76-b6a8-e816b66e8016');\n",
              "        const dataTable =\n",
              "          await google.colab.kernel.invokeFunction('convertToInteractive',\n",
              "                                                    [key], {});\n",
              "        if (!dataTable) return;\n",
              "\n",
              "        const docLinkHtml = 'Like what you see? Visit the ' +\n",
              "          '<a target=\"_blank\" href=https://colab.research.google.com/notebooks/data_table.ipynb>data table notebook</a>'\n",
              "          + ' to learn more about interactive tables.';\n",
              "        element.innerHTML = '';\n",
              "        dataTable['output_type'] = 'display_data';\n",
              "        await google.colab.output.renderOutput(dataTable, element);\n",
              "        const docLink = document.createElement('div');\n",
              "        docLink.innerHTML = docLinkHtml;\n",
              "        element.appendChild(docLink);\n",
              "      }\n",
              "    </script>\n",
              "  </div>\n",
              "\n",
              "\n",
              "    <div id=\"df-c2772b20-86c8-49d1-9066-5668b8e25d74\">\n",
              "      <button class=\"colab-df-quickchart\" onclick=\"quickchart('df-c2772b20-86c8-49d1-9066-5668b8e25d74')\"\n",
              "                title=\"Suggest charts\"\n",
              "                style=\"display:none;\">\n",
              "\n",
              "<svg xmlns=\"http://www.w3.org/2000/svg\" height=\"24px\"viewBox=\"0 0 24 24\"\n",
              "     width=\"24px\">\n",
              "    <g>\n",
              "        <path d=\"M19 3H5c-1.1 0-2 .9-2 2v14c0 1.1.9 2 2 2h14c1.1 0 2-.9 2-2V5c0-1.1-.9-2-2-2zM9 17H7v-7h2v7zm4 0h-2V7h2v10zm4 0h-2v-4h2v4z\"/>\n",
              "    </g>\n",
              "</svg>\n",
              "      </button>\n",
              "\n",
              "<style>\n",
              "  .colab-df-quickchart {\n",
              "      --bg-color: #E8F0FE;\n",
              "      --fill-color: #1967D2;\n",
              "      --hover-bg-color: #E2EBFA;\n",
              "      --hover-fill-color: #174EA6;\n",
              "      --disabled-fill-color: #AAA;\n",
              "      --disabled-bg-color: #DDD;\n",
              "  }\n",
              "\n",
              "  [theme=dark] .colab-df-quickchart {\n",
              "      --bg-color: #3B4455;\n",
              "      --fill-color: #D2E3FC;\n",
              "      --hover-bg-color: #434B5C;\n",
              "      --hover-fill-color: #FFFFFF;\n",
              "      --disabled-bg-color: #3B4455;\n",
              "      --disabled-fill-color: #666;\n",
              "  }\n",
              "\n",
              "  .colab-df-quickchart {\n",
              "    background-color: var(--bg-color);\n",
              "    border: none;\n",
              "    border-radius: 50%;\n",
              "    cursor: pointer;\n",
              "    display: none;\n",
              "    fill: var(--fill-color);\n",
              "    height: 32px;\n",
              "    padding: 0;\n",
              "    width: 32px;\n",
              "  }\n",
              "\n",
              "  .colab-df-quickchart:hover {\n",
              "    background-color: var(--hover-bg-color);\n",
              "    box-shadow: 0 1px 2px rgba(60, 64, 67, 0.3), 0 1px 3px 1px rgba(60, 64, 67, 0.15);\n",
              "    fill: var(--button-hover-fill-color);\n",
              "  }\n",
              "\n",
              "  .colab-df-quickchart-complete:disabled,\n",
              "  .colab-df-quickchart-complete:disabled:hover {\n",
              "    background-color: var(--disabled-bg-color);\n",
              "    fill: var(--disabled-fill-color);\n",
              "    box-shadow: none;\n",
              "  }\n",
              "\n",
              "  .colab-df-spinner {\n",
              "    border: 2px solid var(--fill-color);\n",
              "    border-color: transparent;\n",
              "    border-bottom-color: var(--fill-color);\n",
              "    animation:\n",
              "      spin 1s steps(1) infinite;\n",
              "  }\n",
              "\n",
              "  @keyframes spin {\n",
              "    0% {\n",
              "      border-color: transparent;\n",
              "      border-bottom-color: var(--fill-color);\n",
              "      border-left-color: var(--fill-color);\n",
              "    }\n",
              "    20% {\n",
              "      border-color: transparent;\n",
              "      border-left-color: var(--fill-color);\n",
              "      border-top-color: var(--fill-color);\n",
              "    }\n",
              "    30% {\n",
              "      border-color: transparent;\n",
              "      border-left-color: var(--fill-color);\n",
              "      border-top-color: var(--fill-color);\n",
              "      border-right-color: var(--fill-color);\n",
              "    }\n",
              "    40% {\n",
              "      border-color: transparent;\n",
              "      border-right-color: var(--fill-color);\n",
              "      border-top-color: var(--fill-color);\n",
              "    }\n",
              "    60% {\n",
              "      border-color: transparent;\n",
              "      border-right-color: var(--fill-color);\n",
              "    }\n",
              "    80% {\n",
              "      border-color: transparent;\n",
              "      border-right-color: var(--fill-color);\n",
              "      border-bottom-color: var(--fill-color);\n",
              "    }\n",
              "    90% {\n",
              "      border-color: transparent;\n",
              "      border-bottom-color: var(--fill-color);\n",
              "    }\n",
              "  }\n",
              "</style>\n",
              "\n",
              "      <script>\n",
              "        async function quickchart(key) {\n",
              "          const quickchartButtonEl =\n",
              "            document.querySelector('#' + key + ' button');\n",
              "          quickchartButtonEl.disabled = true;  // To prevent multiple clicks.\n",
              "          quickchartButtonEl.classList.add('colab-df-spinner');\n",
              "          try {\n",
              "            const charts = await google.colab.kernel.invokeFunction(\n",
              "                'suggestCharts', [key], {});\n",
              "          } catch (error) {\n",
              "            console.error('Error during call to suggestCharts:', error);\n",
              "          }\n",
              "          quickchartButtonEl.classList.remove('colab-df-spinner');\n",
              "          quickchartButtonEl.classList.add('colab-df-quickchart-complete');\n",
              "        }\n",
              "        (() => {\n",
              "          let quickchartButtonEl =\n",
              "            document.querySelector('#df-c2772b20-86c8-49d1-9066-5668b8e25d74 button');\n",
              "          quickchartButtonEl.style.display =\n",
              "            google.colab.kernel.accessAllowed ? 'block' : 'none';\n",
              "        })();\n",
              "      </script>\n",
              "    </div>\n",
              "\n",
              "    </div>\n",
              "  </div>\n"
            ],
            "application/vnd.google.colaboratory.intrinsic+json": {
              "type": "dataframe",
              "variable_name": "df",
              "summary": "{\n  \"name\": \"df\",\n  \"rows\": 4808,\n  \"fields\": [\n    {\n      \"column\": \"movie_id\",\n      \"properties\": {\n        \"dtype\": \"string\",\n        \"num_unique_values\": 4802,\n        \"samples\": [\n          \"8427\",\n          \"70875\",\n          10029\n        ],\n        \"semantic_type\": \"\",\n        \"description\": \"\"\n      }\n    },\n    {\n      \"column\": \"title\",\n      \"properties\": {\n        \"dtype\": \"string\",\n        \"num_unique_values\": 4799,\n        \"samples\": [\n          \"Menace II Society\",\n          \"Pompeii\",\n          \"They Live\"\n        ],\n        \"semantic_type\": \"\",\n        \"description\": \"\"\n      }\n    },\n    {\n      \"column\": \"overview\",\n      \"properties\": {\n        \"dtype\": \"string\",\n        \"num_unique_values\": 4799,\n        \"samples\": [\n          \"Craig and Smokey are two guys in Los Angeles hanging out on their porch on a Friday afternoon, smoking and drinking, looking for something to do.\",\n          \"Set in 79 A.D., POMPEII tells the epic story of Milo, a slave turned invincible gladiator who finds himself in a race against time to save his true love Cassia, the beautiful daughter of a wealthy merchant who has been unwillingly betrothed to a corrupt Roman Senator. As Mount Vesuvius erupts in a torrent of blazing lava, Milo must fight his way out of the arena in order to save his beloved as the once magnificent Pompeii crumbles around him.\",\n          \"Two women, Nic and Jules, brought a son and daughter into the world through artificial insemination. When one of their children reaches age, both kids go behind their mothers' backs to meet with the donor. Life becomes so much more interesting when the father, two mothers and children start to become attached to each other.\"\n        ],\n        \"semantic_type\": \"\",\n        \"description\": \"\"\n      }\n    },\n    {\n      \"column\": \"genres\",\n      \"properties\": {\n        \"dtype\": \"category\",\n        \"num_unique_values\": 1175,\n        \"samples\": [\n          \"[{\\\"id\\\": 14, \\\"name\\\": \\\"Fantasy\\\"}, {\\\"id\\\": 12, \\\"name\\\": \\\"Adventure\\\"}, {\\\"id\\\": 16, \\\"name\\\": \\\"Animation\\\"}]\",\n          \"[{\\\"id\\\": 28, \\\"name\\\": \\\"Action\\\"}, {\\\"id\\\": 35, \\\"name\\\": \\\"Comedy\\\"}, {\\\"id\\\": 80, \\\"name\\\": \\\"Crime\\\"}, {\\\"id\\\": 18, \\\"name\\\": \\\"Drama\\\"}]\",\n          \"[{\\\"id\\\": 12, \\\"name\\\": \\\"Adventure\\\"}, {\\\"id\\\": 16, \\\"name\\\": \\\"Animation\\\"}, {\\\"id\\\": 10751, \\\"name\\\": \\\"Family\\\"}, {\\\"id\\\": 14, \\\"name\\\": \\\"Fantasy\\\"}, {\\\"id\\\": 878, \\\"name\\\": \\\"Science Fiction\\\"}]\"\n        ],\n        \"semantic_type\": \"\",\n        \"description\": \"\"\n      }\n    },\n    {\n      \"column\": \"keywords\",\n      \"properties\": {\n        \"dtype\": \"string\",\n        \"num_unique_values\": 4221,\n        \"samples\": [\n          \"[{\\\"id\\\": 279, \\\"name\\\": \\\"usa\\\"}, {\\\"id\\\": 447, \\\"name\\\": \\\"post traumatic stress  disorder\\\"}, {\\\"id\\\": 1543, \\\"name\\\": \\\"war veteran\\\"}, {\\\"id\\\": 1956, \\\"name\\\": \\\"world war ii\\\"}, {\\\"id\\\": 2367, \\\"name\\\": \\\"rehabilitation\\\"}, {\\\"id\\\": 2425, \\\"name\\\": \\\"bodily disabled person\\\"}]\",\n          \"[{\\\"id\\\": 3036, \\\"name\\\": \\\"bible\\\"}, {\\\"id\\\": 9649, \\\"name\\\": \\\"god\\\"}, {\\\"id\\\": 195790, \\\"name\\\": \\\"noah\\\"}, {\\\"id\\\": 209714, \\\"name\\\": \\\"3d\\\"}]\",\n          \"[{\\\"id\\\": 460, \\\"name\\\": \\\"free love\\\"}, {\\\"id\\\": 572, \\\"name\\\": \\\"sex\\\"}, {\\\"id\\\": 738, \\\"name\\\": \\\"sexuality\\\"}, {\\\"id\\\": 1447, \\\"name\\\": \\\"indiana\\\"}, {\\\"id\\\": 1992, \\\"name\\\": \\\"professor\\\"}, {\\\"id\\\": 3664, \\\"name\\\": \\\"research\\\"}, {\\\"id\\\": 4434, \\\"name\\\": \\\"interview\\\"}, {\\\"id\\\": 5565, \\\"name\\\": \\\"biography\\\"}, {\\\"id\\\": 6038, \\\"name\\\": \\\"marriage\\\"}, {\\\"id\\\": 6050, \\\"name\\\": \\\"criticism and blame\\\"}, {\\\"id\\\": 10180, \\\"name\\\": \\\"homosexuality\\\"}, {\\\"id\\\": 11011, \\\"name\\\": \\\"morality\\\"}, {\\\"id\\\": 12105, \\\"name\\\": \\\"student\\\"}, {\\\"id\\\": 15027, \\\"name\\\": \\\"taboo\\\"}, {\\\"id\\\": 161266, \\\"name\\\": \\\"teaching\\\"}, {\\\"id\\\": 189475, \\\"name\\\": \\\"indiana university\\\"}, {\\\"id\\\": 195999, \\\"name\\\": \\\"sexologist\\\"}]\"\n        ],\n        \"semantic_type\": \"\",\n        \"description\": \"\"\n      }\n    },\n    {\n      \"column\": \"cast\",\n      \"properties\": {\n        \"dtype\": \"string\",\n        \"num_unique_values\": 4760,\n        \"samples\": [\n          \"[{\\\"cast_id\\\": 1, \\\"character\\\": \\\"Mac Radner\\\", \\\"credit_id\\\": \\\"52fe4d169251416c9110a20b\\\", \\\"gender\\\": 2, \\\"id\\\": 19274, \\\"name\\\": \\\"Seth Rogen\\\", \\\"order\\\": 0}, {\\\"cast_id\\\": 3, \\\"character\\\": \\\"Teddy Sanders\\\", \\\"credit_id\\\": \\\"52fe4d169251416c9110a213\\\", \\\"gender\\\": 2, \\\"id\\\": 29222, \\\"name\\\": \\\"Zac Efron\\\", \\\"order\\\": 1}, {\\\"cast_id\\\": 2, \\\"character\\\": \\\"Kelly Radner\\\", \\\"credit_id\\\": \\\"52fe4d169251416c9110a20f\\\", \\\"gender\\\": 1, \\\"id\\\": 9827, \\\"name\\\": \\\"Rose Byrne\\\", \\\"order\\\": 2}, {\\\"cast_id\\\": 4, \\\"character\\\": \\\"Pete Regazolli\\\", \\\"credit_id\\\": \\\"52fe4d169251416c9110a217\\\", \\\"gender\\\": 2, \\\"id\\\": 54697, \\\"name\\\": \\\"Dave Franco\\\", \\\"order\\\": 3}, {\\\"cast_id\\\": 14, \\\"character\\\": \\\"Jimmy Blevins\\\", \\\"credit_id\\\": \\\"52fe4d169251416c9110a245\\\", \\\"gender\\\": 2, \\\"id\\\": 198150, \\\"name\\\": \\\"Ike Barinholtz\\\", \\\"order\\\": 4}, {\\\"cast_id\\\": 5, \\\"character\\\": \\\"Scoonie Schofield\\\", \\\"credit_id\\\": \\\"52fe4d169251416c9110a21b\\\", \\\"gender\\\": 2, \\\"id\\\": 54691, \\\"name\\\": \\\"Christopher Mintz-Plasse\\\", \\\"order\\\": 5}, {\\\"cast_id\\\": 11, \\\"character\\\": \\\"Paula Faldt\\\", \\\"credit_id\\\": \\\"52fe4d169251416c9110a239\\\", \\\"gender\\\": 1, \\\"id\\\": 54708, \\\"name\\\": \\\"Carla Gallo\\\", \\\"order\\\": 6}, {\\\"cast_id\\\": 20, \\\"character\\\": \\\"Brooke Shy\\\", \\\"credit_id\\\": \\\"5326a290c3a3683dbf003e48\\\", \\\"gender\\\": 1, \\\"id\\\": 934243, \\\"name\\\": \\\"Halston Sage\\\", \\\"order\\\": 7}, {\\\"cast_id\\\": 15, \\\"character\\\": \\\"Assjuice\\\", \\\"credit_id\\\": \\\"52fe4d169251416c9110a249\\\", \\\"gender\\\": 2, \\\"id\\\": 104561, \\\"name\\\": \\\"Craig Roberts\\\", \\\"order\\\": 8}, {\\\"cast_id\\\": 21, \\\"character\\\": \\\"Officer Watkins\\\", \\\"credit_id\\\": \\\"5326a2b3c3a3682378003f42\\\", \\\"gender\\\": 0, \\\"id\\\": 500427, \\\"name\\\": \\\"Hannibal Buress\\\", \\\"order\\\": 9}, {\\\"cast_id\\\": 9, \\\"character\\\": \\\"Carol Gladstone\\\", \\\"credit_id\\\": \\\"52fe4d169251416c9110a231\\\", \\\"gender\\\": 1, \\\"id\\\": 14406, \\\"name\\\": \\\"Lisa Kudrow\\\", \\\"order\\\": 10}, {\\\"cast_id\\\": 16, \\\"character\\\": \\\"Dr. Theodorakis\\\", \\\"credit_id\\\": \\\"52fe4d169251416c9110a24d\\\", \\\"gender\\\": 0, \\\"id\\\": 111683, \\\"name\\\": \\\"Jason Mantzoukas\\\", \\\"order\\\": 11}, {\\\"cast_id\\\": 42, \\\"character\\\": \\\"Garf\\\", \\\"credit_id\\\": \\\"54cf6fef92514147570082cf\\\", \\\"gender\\\": 2, \\\"id\\\": 1400880, \\\"name\\\": \\\"Jerrod Carmichael\\\", \\\"order\\\": 12}, {\\\"cast_id\\\": 40, \\\"character\\\": \\\"Whitney\\\", \\\"credit_id\\\": \\\"53fd31e7c3a3684c8c0004da\\\", \\\"gender\\\": 1, \\\"id\\\": 496731, \\\"name\\\": \\\"Ali Cobrin\\\", \\\"order\\\": 13}, {\\\"cast_id\\\": 65, \\\"character\\\": \\\"Stella Radner\\\", \\\"credit_id\\\": \\\"56ca131e92514102ad003abd\\\", \\\"gender\\\": 1, \\\"id\\\": 1581096, \\\"name\\\": \\\"Elise Vargas\\\", \\\"order\\\": 14}, {\\\"cast_id\\\": 66, \\\"character\\\": \\\"Stella Radner\\\", \\\"credit_id\\\": \\\"56ca133c92514123f8001a49\\\", \\\"gender\\\": 1, \\\"id\\\": 1581097, \\\"name\\\": \\\"Zoey Vargas\\\", \\\"order\\\": 15}, {\\\"cast_id\\\": 67, \\\"character\\\": \\\"Bill Wazowkowski\\\", \\\"credit_id\\\": \\\"56ca13d692514130a9001a7d\\\", \\\"gender\\\": 2, \\\"id\\\": 54728, \\\"name\\\": \\\"Brian Huskey\\\", \\\"order\\\": 16}, {\\\"cast_id\\\": 68, \\\"character\\\": \\\"Brittany\\\", \\\"credit_id\\\": \\\"56ca1476925141172f0085da\\\", \\\"gender\\\": 1, \\\"id\\\": 1498472, \\\"name\\\": \\\"Kira Sternbach\\\", \\\"order\\\": 17}, {\\\"cast_id\\\": 80, \\\"character\\\": \\\"Rep\\\", \\\"credit_id\\\": \\\"56ca1968c3a368408c009718\\\", \\\"gender\\\": 2, \\\"id\\\": 79082, \\\"name\\\": \\\"Randall Park\\\", \\\"order\\\": 18}, {\\\"cast_id\\\": 10, \\\"character\\\": \\\"Sebastian Cremmington\\\", \\\"credit_id\\\": \\\"52fe4d169251416c9110a235\\\", \\\"gender\\\": 2, \\\"id\\\": 543505, \\\"name\\\": \\\"Jake Johnson\\\", \\\"order\\\": 19}, {\\\"cast_id\\\": 71, \\\"character\\\": \\\"Thumbsucker\\\", \\\"credit_id\\\": \\\"56ca15de92514123b8001c84\\\", \\\"gender\\\": 2, \\\"id\\\": 1581100, \\\"name\\\": \\\"Steven Michael Eich\\\", \\\"order\\\": 20}, {\\\"cast_id\\\": 69, \\\"character\\\": \\\"Rival Frat Guy #1\\\", \\\"credit_id\\\": \\\"56ca14ee92514123f8001ab5\\\", \\\"gender\\\": 2, \\\"id\\\": 1037154, \\\"name\\\": \\\"Fahim Anwar\\\", \\\"order\\\": 21}, {\\\"cast_id\\\": 70, \\\"character\\\": \\\"Rival Frat Guy #2\\\", \\\"credit_id\\\": \\\"56ca15029251411ea80089e2\\\", \\\"gender\\\": 2, \\\"id\\\": 1581098, \\\"name\\\": \\\"Ori Kalmus\\\", \\\"order\\\": 22}, {\\\"cast_id\\\": 44, \\\"character\\\": \\\"Toga #1\\\", \\\"credit_id\\\": \\\"55b08b8cc3a3682d6300ade0\\\", \\\"gender\\\": 2, \\\"id\\\": 62861, \\\"name\\\": \\\"Andy Samberg\\\", \\\"order\\\": 23}, {\\\"cast_id\\\": 72, \\\"character\\\": \\\"Toga #2\\\", \\\"credit_id\\\": \\\"56ca15ffc3a3684095008dca\\\", \\\"gender\\\": 2, \\\"id\\\": 62854, \\\"name\\\": \\\"Akiva Schaffer\\\", \\\"order\\\": 24}, {\\\"cast_id\\\": 73, \\\"character\\\": \\\"Toga #3\\\", \\\"credit_id\\\": \\\"56ca161292514102ad003b8f\\\", \\\"gender\\\": 2, \\\"id\\\": 62863, \\\"name\\\": \\\"Jorma Taccone\\\", \\\"order\\\": 25}, {\\\"cast_id\\\": 74, \\\"character\\\": \\\"Beer Pong Guy #1\\\", \\\"credit_id\\\": \\\"56ca1667c3a3684097009945\\\", \\\"gender\\\": 2, \\\"id\\\": 212604, \\\"name\\\": \\\"Adam Devine\\\", \\\"order\\\": 26}, {\\\"cast_id\\\": 75, \\\"character\\\": \\\"Beer Pong Guy #2\\\", \\\"credit_id\\\": \\\"56ca168092514123b8001cbc\\\", \\\"gender\\\": 0, \\\"id\\\": 521564, \\\"name\\\": \\\"Blake Anderson\\\", \\\"order\\\": 27}, {\\\"cast_id\\\": 76, \\\"character\\\": \\\"Beer Pong Guy #3\\\", \\\"credit_id\\\": \\\"56ca1695c3a3684095008df6\\\", \\\"gender\\\": 2, \\\"id\\\": 521563, \\\"name\\\": \\\"Anders Holm\\\", \\\"order\\\": 28}, {\\\"cast_id\\\": 83, \\\"character\\\": \\\"Wendy the Realtor\\\", \\\"credit_id\\\": \\\"57d2e8ecc3a36842910013bd\\\", \\\"gender\\\": 1, \\\"id\\\": 448309, \\\"name\\\": \\\"Liz Cackowski\\\", \\\"order\\\": 29}, {\\\"cast_id\\\": 77, \\\"character\\\": \\\"Beer Pong Guy #4\\\", \\\"credit_id\\\": \\\"56ca16ad925141172f008677\\\", \\\"gender\\\": 0, \\\"id\\\": 1254001, \\\"name\\\": \\\"Kyle Newacheck\\\", \\\"order\\\": 30}, {\\\"cast_id\\\": 79, \\\"character\\\": \\\"The Babysitter\\\", \\\"credit_id\\\": \\\"56ca18f692514123b8001d81\\\", \\\"gender\\\": 2, \\\"id\\\": 168872, \\\"name\\\": \\\"Jesse Heiman\\\", \\\"order\\\": 31}, {\\\"cast_id\\\": 18, \\\"character\\\": \\\"Sorority Girl\\\", \\\"credit_id\\\": \\\"52fe4d169251416c9110a255\\\", \\\"gender\\\": 0, \\\"id\\\": 1203537, \\\"name\\\": \\\"Cassandra Starr\\\", \\\"order\\\": 32}, {\\\"cast_id\\\": 41, \\\"character\\\": \\\"Prostitute\\\", \\\"credit_id\\\": \\\"542719230e0a2655660005f7\\\", \\\"gender\\\": 1, \\\"id\\\": 1214835, \\\"name\\\": \\\"Natasha Leggero\\\", \\\"order\\\": 33}, {\\\"cast_id\\\": 43, \\\"character\\\": \\\"Prostitute (uncredited)\\\", \\\"credit_id\\\": \\\"55143ac392514103e9003032\\\", \\\"gender\\\": 1, \\\"id\\\": 142402, \\\"name\\\": \\\"Maria Olsen\\\", \\\"order\\\": 34}, {\\\"cast_id\\\": 63, \\\"character\\\": \\\"JJ (uncredited)\\\", \\\"credit_id\\\": \\\"56c795ba925141723c000251\\\", \\\"gender\\\": 2, \\\"id\\\": 1398257, \\\"name\\\": \\\"Stephen Todt\\\", \\\"order\\\": 35}, {\\\"cast_id\\\": 78, \\\"character\\\": \\\"Birthday Party Jumper (uncredited)\\\", \\\"credit_id\\\": \\\"56ca1882c3a3684089008d24\\\", \\\"gender\\\": 2, \\\"id\\\": 1413876, \\\"name\\\": \\\"Michael Angeloe\\\", \\\"order\\\": 36}, {\\\"cast_id\\\": 64, \\\"character\\\": \\\"Homeless Man (uncredited)\\\", \\\"credit_id\\\": \\\"56c8bdd1925141172f003b39\\\", \\\"gender\\\": 2, \\\"id\\\": 1580574, \\\"name\\\": \\\"Gary Sievers\\\", \\\"order\\\": 37}, {\\\"cast_id\\\": 81, \\\"character\\\": \\\"Gay Couple (uncredited)\\\", \\\"credit_id\\\": \\\"56ca1af3c3a3684087008fa8\\\", \\\"gender\\\": 2, \\\"id\\\": 1581102, \\\"name\\\": \\\"Casey Ford Alexander\\\", \\\"order\\\": 38}, {\\\"cast_id\\\": 85, \\\"character\\\": \\\"Alecia (uncredited)\\\", \\\"credit_id\\\": \\\"57d2e9bb9251410d1b001237\\\", \\\"gender\\\": 1, \\\"id\\\": 1158832, \\\"name\\\": \\\"Chasty Ballesteros\\\", \\\"order\\\": 39}, {\\\"cast_id\\\": 84, \\\"character\\\": \\\"Sorority Girl (uncredited)\\\", \\\"credit_id\\\": \\\"57d2e9a9c3a368427800121a\\\", \\\"gender\\\": 1, \\\"id\\\": 1676856, \\\"name\\\": \\\"Melanie Avalon\\\", \\\"order\\\": 40}, {\\\"cast_id\\\": 86, \\\"character\\\": \\\"Sorority Girl (uncredited)\\\", \\\"credit_id\\\": \\\"57d2ea1d9251410d190012d9\\\", \\\"gender\\\": 1, \\\"id\\\": 1379512, \\\"name\\\": \\\"Marianne Bourg\\\", \\\"order\\\": 41}, {\\\"cast_id\\\": 87, \\\"character\\\": \\\"Sorority Girl (uncredited)\\\", \\\"credit_id\\\": \\\"57d2ea8ec3a36842910014ce\\\", \\\"gender\\\": 1, \\\"id\\\": 1676864, \\\"name\\\": \\\"Erika Del Toro\\\", \\\"order\\\": 42}, {\\\"cast_id\\\": 88, \\\"character\\\": \\\"Sorority Girl (uncredited)\\\", \\\"credit_id\\\": \\\"57d2ea9fc3a36842810015af\\\", \\\"gender\\\": 1, \\\"id\\\": 1676865, \\\"name\\\": \\\"Alanna Dergan\\\", \\\"order\\\": 43}, {\\\"cast_id\\\": 89, \\\"character\\\": \\\"Sorority Girl (uncredited)\\\", \\\"credit_id\\\": \\\"57d2eb74c3a36842850015e3\\\", \\\"gender\\\": 1, \\\"id\\\": 1351205, \\\"name\\\": \\\"Elsi Eng\\\", \\\"order\\\": 44}, {\\\"cast_id\\\": 90, \\\"character\\\": \\\"Sorority Girl (uncredited)\\\", \\\"credit_id\\\": \\\"57d2eb859251410d1b00130b\\\", \\\"gender\\\": 1, \\\"id\\\": 1676867, \\\"name\\\": \\\"Ayesha Fraser\\\", \\\"order\\\": 45}, {\\\"cast_id\\\": 91, \\\"character\\\": \\\"Sorority Girl (uncredited)\\\", \\\"credit_id\\\": \\\"57d2ecb19251410d1e0014ba\\\", \\\"gender\\\": 1, \\\"id\\\": 1634314, \\\"name\\\": \\\"Courtney Hart\\\", \\\"order\\\": 46}, {\\\"cast_id\\\": 92, \\\"character\\\": \\\"Sorority Girl (uncredited)\\\", \\\"credit_id\\\": \\\"57d2ecefc3a3684278001365\\\", \\\"gender\\\": 1, \\\"id\\\": 1198989, \\\"name\\\": \\\"Danika Galindo\\\", \\\"order\\\": 47}, {\\\"cast_id\\\": 93, \\\"character\\\": \\\"Sorority Girl (uncredited)\\\", \\\"credit_id\\\": \\\"57d2ed9fc3a36842850016eb\\\", \\\"gender\\\": 0, \\\"id\\\": 1203537, \\\"name\\\": \\\"Cassandra Starr\\\", \\\"order\\\": 48}, {\\\"cast_id\\\": 94, \\\"character\\\": \\\"Sorority Girl (uncredited)\\\", \\\"credit_id\\\": \\\"57d2edaf9251410d1e001529\\\", \\\"gender\\\": 1, \\\"id\\\": 1676871, \\\"name\\\": \\\"Valeria Sweet\\\", \\\"order\\\": 49}, {\\\"cast_id\\\": 95, \\\"character\\\": \\\"Sorority Girl (uncredited)\\\", \\\"credit_id\\\": \\\"596c870c9251416c38009cf6\\\", \\\"gender\\\": 1, \\\"id\\\": 592342, \\\"name\\\": \\\"Bridgetta Tomarchio\\\", \\\"order\\\": 50}]\",\n          \"[{\\\"cast_id\\\": 3, \\\"character\\\": \\\"Richard O'Connell\\\", \\\"credit_id\\\": \\\"52fe4312c3a36847f8038407\\\", \\\"gender\\\": 2, \\\"id\\\": 18269, \\\"name\\\": \\\"Brendan Fraser\\\", \\\"order\\\": 0}, {\\\"cast_id\\\": 4, \\\"character\\\": \\\"Evelyn Carnahan O'Connell/Princess Nefertiri\\\", \\\"credit_id\\\": \\\"52fe4312c3a36847f803840b\\\", \\\"gender\\\": 1, \\\"id\\\": 3293, \\\"name\\\": \\\"Rachel Weisz\\\", \\\"order\\\": 1}, {\\\"cast_id\\\": 5, \\\"character\\\": \\\"Jonathan Carnahan\\\", \\\"credit_id\\\": \\\"52fe4312c3a36847f803840f\\\", \\\"gender\\\": 2, \\\"id\\\": 10727, \\\"name\\\": \\\"John Hannah\\\", \\\"order\\\": 2}, {\\\"cast_id\\\": 6, \\\"character\\\": \\\"High Priest Imhotep\\\", \\\"credit_id\\\": \\\"52fe4312c3a36847f8038413\\\", \\\"gender\\\": 2, \\\"id\\\": 16743, \\\"name\\\": \\\"Arnold Vosloo\\\", \\\"order\\\": 3}, {\\\"cast_id\\\": 7, \\\"character\\\": \\\"Ardeth Bay\\\", \\\"credit_id\\\": \\\"52fe4312c3a36847f8038417\\\", \\\"gender\\\": 2, \\\"id\\\": 18041, \\\"name\\\": \\\"Oded Fehr\\\", \\\"order\\\": 4}, {\\\"cast_id\\\": 8, \\\"character\\\": \\\"Mathayus the Scorpion King\\\", \\\"credit_id\\\": \\\"52fe4312c3a36847f803841b\\\", \\\"gender\\\": 2, \\\"id\\\": 18918, \\\"name\\\": \\\"Dwayne Johnson\\\", \\\"order\\\": 5}, {\\\"cast_id\\\": 9, \\\"character\\\": \\\"Alexander O'Connell\\\", \\\"credit_id\\\": \\\"52fe4312c3a36847f803841f\\\", \\\"gender\\\": 2, \\\"id\\\": 18919, \\\"name\\\": \\\"Freddie Boath\\\", \\\"order\\\": 6}, {\\\"cast_id\\\": 10, \\\"character\\\": \\\"Meela Nais/Anck Su Namun\\\", \\\"credit_id\\\": \\\"52fe4312c3a36847f8038423\\\", \\\"gender\\\": 1, \\\"id\\\": 18920, \\\"name\\\": \\\"Patricia Vel\\\\u00e1squez\\\", \\\"order\\\": 7}, {\\\"cast_id\\\": 17, \\\"character\\\": \\\"Baltus Hafez\\\", \\\"credit_id\\\": \\\"52fe4312c3a36847f803844b\\\", \\\"gender\\\": 2, \\\"id\\\": 2629, \\\"name\\\": \\\"Alun Armstrong\\\", \\\"order\\\": 8}, {\\\"cast_id\\\": 18, \\\"character\\\": \\\"Lock-Nah\\\", \\\"credit_id\\\": \\\"52fe4312c3a36847f803844f\\\", \\\"gender\\\": 2, \\\"id\\\": 31164, \\\"name\\\": \\\"Adewale Akinnuoye-Agbaje\\\", \\\"order\\\": 9}, {\\\"cast_id\\\": 19, \\\"character\\\": \\\"Izzy Buttons\\\", \\\"credit_id\\\": \\\"52fe4312c3a36847f8038453\\\", \\\"gender\\\": 2, \\\"id\\\": 30316, \\\"name\\\": \\\"Shaun Parkes\\\", \\\"order\\\": 10}, {\\\"cast_id\\\": 20, \\\"character\\\": \\\"Red\\\", \\\"credit_id\\\": \\\"52fe4312c3a36847f8038457\\\", \\\"gender\\\": 0, \\\"id\\\": 25675, \\\"name\\\": \\\"Bruce Byron\\\", \\\"order\\\": 11}, {\\\"cast_id\\\": 21, \\\"character\\\": \\\"Jacques\\\", \\\"credit_id\\\": \\\"52fe4312c3a36847f803845b\\\", \\\"gender\\\": 0, \\\"id\\\": 1010264, \\\"name\\\": \\\"Joe Dixon\\\", \\\"order\\\": 12}, {\\\"cast_id\\\": 22, \\\"character\\\": \\\"Spivey\\\", \\\"credit_id\\\": \\\"52fe4312c3a36847f803845f\\\", \\\"gender\\\": 2, \\\"id\\\": 208211, \\\"name\\\": \\\"Thomas Fisher\\\", \\\"order\\\": 13}, {\\\"cast_id\\\": 23, \\\"character\\\": \\\"Pharaoh Seti I\\\", \\\"credit_id\\\": \\\"52fe4312c3a36847f8038463\\\", \\\"gender\\\": 2, \\\"id\\\": 25808, \\\"name\\\": \\\"Aharon Ipal\\\\u00e9\\\", \\\"order\\\": 14}, {\\\"cast_id\\\": 24, \\\"character\\\": \\\"Shafek\\\", \\\"credit_id\\\": \\\"52fe4312c3a36847f8038467\\\", \\\"gender\\\": 0, \\\"id\\\": 178631, \\\"name\\\": \\\"Quill Roberts\\\", \\\"order\\\": 15}, {\\\"cast_id\\\": 25, \\\"character\\\": \\\"Showgirl with Jonathan\\\", \\\"credit_id\\\": \\\"52fe4312c3a36847f803846b\\\", \\\"gender\\\": 1, \\\"id\\\": 120886, \\\"name\\\": \\\"Donna Air\\\", \\\"order\\\": 16}, {\\\"cast_id\\\": 26, \\\"character\\\": \\\"Mountain of Flesh\\\", \\\"credit_id\\\": \\\"52fe4312c3a36847f803846f\\\", \\\"gender\\\": 0, \\\"id\\\": 1077874, \\\"name\\\": \\\"Trevor Lovell\\\", \\\"order\\\": 17}, {\\\"cast_id\\\": 30, \\\"character\\\": \\\"Spivey\\\", \\\"credit_id\\\": \\\"536222b20e0a2649a900146a\\\", \\\"gender\\\": 0, \\\"id\\\": 27678, \\\"name\\\": \\\"Tom Fisher\\\", \\\"order\\\": 18}]\",\n          \"[{\\\"cast_id\\\": 13, \\\"character\\\": \\\"Major Alan 'Dutch' Schaeffer\\\", \\\"credit_id\\\": \\\"52fe4218c3a36847f8003b53\\\", \\\"gender\\\": 2, \\\"id\\\": 1100, \\\"name\\\": \\\"Arnold Schwarzenegger\\\", \\\"order\\\": 0}, {\\\"cast_id\\\": 14, \\\"character\\\": \\\"Major George Dillon\\\", \\\"credit_id\\\": \\\"52fe4218c3a36847f8003b57\\\", \\\"gender\\\": 0, \\\"id\\\": 1101, \\\"name\\\": \\\"Carl Weathers\\\", \\\"order\\\": 1}, {\\\"cast_id\\\": 15, \\\"character\\\": \\\"Anna\\\", \\\"credit_id\\\": \\\"52fe4218c3a36847f8003b5b\\\", \\\"gender\\\": 1, \\\"id\\\": 1102, \\\"name\\\": \\\"Elpidia Carrillo\\\", \\\"order\\\": 2}, {\\\"cast_id\\\": 16, \\\"character\\\": \\\"Sergeant 'Mac' Eliot\\\", \\\"credit_id\\\": \\\"52fe4218c3a36847f8003b5f\\\", \\\"gender\\\": 2, \\\"id\\\": 1103, \\\"name\\\": \\\"Bill Duke\\\", \\\"order\\\": 3}, {\\\"cast_id\\\": 17, \\\"character\\\": \\\"Blain\\\", \\\"credit_id\\\": \\\"52fe4218c3a36847f8003b63\\\", \\\"gender\\\": 2, \\\"id\\\": 1104, \\\"name\\\": \\\"Jesse Ventura\\\", \\\"order\\\": 4}, {\\\"cast_id\\\": 18, \\\"character\\\": \\\"Billy\\\", \\\"credit_id\\\": \\\"52fe4218c3a36847f8003b67\\\", \\\"gender\\\": 2, \\\"id\\\": 1105, \\\"name\\\": \\\"Sonny Landham\\\", \\\"order\\\": 5}, {\\\"cast_id\\\": 19, \\\"character\\\": \\\"Poncho Ramirez\\\", \\\"credit_id\\\": \\\"52fe4218c3a36847f8003b6b\\\", \\\"gender\\\": 2, \\\"id\\\": 1106, \\\"name\\\": \\\"Richard Chaves\\\", \\\"order\\\": 6}, {\\\"cast_id\\\": 20, \\\"character\\\": \\\"General Phillips\\\", \\\"credit_id\\\": \\\"52fe4218c3a36847f8003b6f\\\", \\\"gender\\\": 2, \\\"id\\\": 1107, \\\"name\\\": \\\"R. G. Armstrong\\\", \\\"order\\\": 7}, {\\\"cast_id\\\": 21, \\\"character\\\": \\\"Hawkins\\\", \\\"credit_id\\\": \\\"52fe4218c3a36847f8003b73\\\", \\\"gender\\\": 2, \\\"id\\\": 1108, \\\"name\\\": \\\"Shane Black\\\", \\\"order\\\": 8}, {\\\"cast_id\\\": 23, \\\"character\\\": \\\"Helicopter Pilot / Predator\\\", \\\"credit_id\\\": \\\"52fe4218c3a36847f8003b7b\\\", \\\"gender\\\": 2, \\\"id\\\": 1109, \\\"name\\\": \\\"Kevin Peter Hall\\\", \\\"order\\\": 10}, {\\\"cast_id\\\": 25, \\\"character\\\": \\\"Russian Officer (uncredited)\\\", \\\"credit_id\\\": \\\"5742adfe9251416ce6002052\\\", \\\"gender\\\": 2, \\\"id\\\": 20761, \\\"name\\\": \\\"Sven-Ole Thorsen\\\", \\\"order\\\": 11}]\"\n        ],\n        \"semantic_type\": \"\",\n        \"description\": \"\"\n      }\n    },\n    {\n      \"column\": \"crew\",\n      \"properties\": {\n        \"dtype\": \"string\",\n        \"num_unique_values\": 4771,\n        \"samples\": [\n          \"[{\\\"credit_id\\\": \\\"52fe4691c3a36847f81061e5\\\", \\\"department\\\": \\\"Directing\\\", \\\"gender\\\": 2, \\\"id\\\": 190, \\\"job\\\": \\\"Director\\\", \\\"name\\\": \\\"Clint Eastwood\\\"}, {\\\"credit_id\\\": \\\"52fe4691c3a36847f810622b\\\", \\\"department\\\": \\\"Writing\\\", \\\"gender\\\": 2, \\\"id\\\": 15730, \\\"job\\\": \\\"Screenplay\\\", \\\"name\\\": \\\"Peter Morgan\\\"}]\",\n          \"[{\\\"credit_id\\\": \\\"52fe4c93c3a36847f8234cff\\\", \\\"department\\\": \\\"Directing\\\", \\\"gender\\\": 0, \\\"id\\\": 1149038, \\\"job\\\": \\\"Director\\\", \\\"name\\\": \\\"Duane Journey\\\"}, {\\\"credit_id\\\": \\\"52fe4c93c3a36847f8234d05\\\", \\\"department\\\": \\\"Writing\\\", \\\"gender\\\": 0, \\\"id\\\": 1149041, \\\"job\\\": \\\"Writer\\\", \\\"name\\\": \\\"David Tillman\\\"}]\",\n          \"[{\\\"credit_id\\\": \\\"52fe473b9251416c750921ff\\\", \\\"department\\\": \\\"Directing\\\", \\\"gender\\\": 2, \\\"id\\\": 104507, \\\"job\\\": \\\"Director\\\", \\\"name\\\": \\\"Steve Gomer\\\"}]\"\n        ],\n        \"semantic_type\": \"\",\n        \"description\": \"\"\n      }\n    }\n  ]\n}"
            }
          },
          "metadata": {},
          "execution_count": 17
        }
      ]
    },
    {
      "cell_type": "code",
      "source": [
        "df.isnull().sum()"
      ],
      "metadata": {
        "colab": {
          "base_uri": "https://localhost:8080/",
          "height": 303
        },
        "id": "b8DvRbr3SY9x",
        "outputId": "d2ee405c-01ef-43ec-ea99-901b9949fcca"
      },
      "execution_count": null,
      "outputs": [
        {
          "output_type": "execute_result",
          "data": {
            "text/plain": [
              "movie_id    0\n",
              "title       0\n",
              "overview    3\n",
              "genres      0\n",
              "keywords    0\n",
              "cast        0\n",
              "crew        4\n",
              "dtype: int64"
            ],
            "text/html": [
              "<div>\n",
              "<style scoped>\n",
              "    .dataframe tbody tr th:only-of-type {\n",
              "        vertical-align: middle;\n",
              "    }\n",
              "\n",
              "    .dataframe tbody tr th {\n",
              "        vertical-align: top;\n",
              "    }\n",
              "\n",
              "    .dataframe thead th {\n",
              "        text-align: right;\n",
              "    }\n",
              "</style>\n",
              "<table border=\"1\" class=\"dataframe\">\n",
              "  <thead>\n",
              "    <tr style=\"text-align: right;\">\n",
              "      <th></th>\n",
              "      <th>0</th>\n",
              "    </tr>\n",
              "  </thead>\n",
              "  <tbody>\n",
              "    <tr>\n",
              "      <th>movie_id</th>\n",
              "      <td>0</td>\n",
              "    </tr>\n",
              "    <tr>\n",
              "      <th>title</th>\n",
              "      <td>0</td>\n",
              "    </tr>\n",
              "    <tr>\n",
              "      <th>overview</th>\n",
              "      <td>3</td>\n",
              "    </tr>\n",
              "    <tr>\n",
              "      <th>genres</th>\n",
              "      <td>0</td>\n",
              "    </tr>\n",
              "    <tr>\n",
              "      <th>keywords</th>\n",
              "      <td>0</td>\n",
              "    </tr>\n",
              "    <tr>\n",
              "      <th>cast</th>\n",
              "      <td>0</td>\n",
              "    </tr>\n",
              "    <tr>\n",
              "      <th>crew</th>\n",
              "      <td>4</td>\n",
              "    </tr>\n",
              "  </tbody>\n",
              "</table>\n",
              "</div><br><label><b>dtype:</b> int64</label>"
            ]
          },
          "metadata": {},
          "execution_count": 18
        }
      ]
    },
    {
      "cell_type": "code",
      "source": [
        "df.dropna(inplace=True)"
      ],
      "metadata": {
        "colab": {
          "base_uri": "https://localhost:8080/"
        },
        "id": "2tr603mdSfql",
        "outputId": "8cc43a4f-090b-4277-c0e1-e019d67b0553"
      },
      "execution_count": null,
      "outputs": [
        {
          "output_type": "stream",
          "name": "stderr",
          "text": [
            "/tmp/ipython-input-1379821321.py:1: SettingWithCopyWarning: \n",
            "A value is trying to be set on a copy of a slice from a DataFrame\n",
            "\n",
            "See the caveats in the documentation: https://pandas.pydata.org/pandas-docs/stable/user_guide/indexing.html#returning-a-view-versus-a-copy\n",
            "  df.dropna(inplace=True)\n"
          ]
        }
      ]
    },
    {
      "cell_type": "code",
      "source": [
        "df.duplicated().sum()\n",
        "df.head()"
      ],
      "metadata": {
        "colab": {
          "base_uri": "https://localhost:8080/",
          "height": 379
        },
        "id": "lY_iR1AKTFA7",
        "outputId": "ad67afae-2419-47b1-8b56-6fee7b987311"
      },
      "execution_count": null,
      "outputs": [
        {
          "output_type": "execute_result",
          "data": {
            "text/plain": [
              "  movie_id                                     title  \\\n",
              "0    19995                                    Avatar   \n",
              "1      285  Pirates of the Caribbean: At World's End   \n",
              "2   206647                                   Spectre   \n",
              "3    49026                     The Dark Knight Rises   \n",
              "4    49529                               John Carter   \n",
              "\n",
              "                                            overview  \\\n",
              "0  In the 22nd century, a paraplegic Marine is di...   \n",
              "1  Captain Barbossa, long believed to be dead, ha...   \n",
              "2  A cryptic message from Bond’s past sends him o...   \n",
              "3  Following the death of District Attorney Harve...   \n",
              "4  John Carter is a war-weary, former military ca...   \n",
              "\n",
              "                                              genres  \\\n",
              "0  [{\"id\": 28, \"name\": \"Action\"}, {\"id\": 12, \"nam...   \n",
              "1  [{\"id\": 12, \"name\": \"Adventure\"}, {\"id\": 14, \"...   \n",
              "2  [{\"id\": 28, \"name\": \"Action\"}, {\"id\": 12, \"nam...   \n",
              "3  [{\"id\": 28, \"name\": \"Action\"}, {\"id\": 80, \"nam...   \n",
              "4  [{\"id\": 28, \"name\": \"Action\"}, {\"id\": 12, \"nam...   \n",
              "\n",
              "                                            keywords  \\\n",
              "0  [{\"id\": 1463, \"name\": \"culture clash\"}, {\"id\":...   \n",
              "1  [{\"id\": 270, \"name\": \"ocean\"}, {\"id\": 726, \"na...   \n",
              "2  [{\"id\": 470, \"name\": \"spy\"}, {\"id\": 818, \"name...   \n",
              "3  [{\"id\": 849, \"name\": \"dc comics\"}, {\"id\": 853,...   \n",
              "4  [{\"id\": 818, \"name\": \"based on novel\"}, {\"id\":...   \n",
              "\n",
              "                                                cast  \\\n",
              "0  [{\"cast_id\": 242, \"character\": \"Jake Sully\", \"...   \n",
              "1  [{\"cast_id\": 4, \"character\": \"Captain Jack Spa...   \n",
              "2  [{\"cast_id\": 1, \"character\": \"James Bond\", \"cr...   \n",
              "3  [{\"cast_id\": 2, \"character\": \"Bruce Wayne / Ba...   \n",
              "4  [{\"cast_id\": 5, \"character\": \"John Carter\", \"c...   \n",
              "\n",
              "                                                crew  \n",
              "0  [{\"credit_id\": \"52fe48009251416c750aca23\", \"de...  \n",
              "1  [{\"credit_id\": \"52fe4232c3a36847f800b579\", \"de...  \n",
              "2  [{\"credit_id\": \"54805967c3a36829b5002c41\", \"de...  \n",
              "3  [{\"credit_id\": \"52fe4781c3a36847f81398c3\", \"de...  \n",
              "4  [{\"credit_id\": \"52fe479ac3a36847f813eaa3\", \"de...  "
            ],
            "text/html": [
              "\n",
              "  <div id=\"df-628a4d9f-7f92-44ac-b18c-19b159e9f3d5\" class=\"colab-df-container\">\n",
              "    <div>\n",
              "<style scoped>\n",
              "    .dataframe tbody tr th:only-of-type {\n",
              "        vertical-align: middle;\n",
              "    }\n",
              "\n",
              "    .dataframe tbody tr th {\n",
              "        vertical-align: top;\n",
              "    }\n",
              "\n",
              "    .dataframe thead th {\n",
              "        text-align: right;\n",
              "    }\n",
              "</style>\n",
              "<table border=\"1\" class=\"dataframe\">\n",
              "  <thead>\n",
              "    <tr style=\"text-align: right;\">\n",
              "      <th></th>\n",
              "      <th>movie_id</th>\n",
              "      <th>title</th>\n",
              "      <th>overview</th>\n",
              "      <th>genres</th>\n",
              "      <th>keywords</th>\n",
              "      <th>cast</th>\n",
              "      <th>crew</th>\n",
              "    </tr>\n",
              "  </thead>\n",
              "  <tbody>\n",
              "    <tr>\n",
              "      <th>0</th>\n",
              "      <td>19995</td>\n",
              "      <td>Avatar</td>\n",
              "      <td>In the 22nd century, a paraplegic Marine is di...</td>\n",
              "      <td>[{\"id\": 28, \"name\": \"Action\"}, {\"id\": 12, \"nam...</td>\n",
              "      <td>[{\"id\": 1463, \"name\": \"culture clash\"}, {\"id\":...</td>\n",
              "      <td>[{\"cast_id\": 242, \"character\": \"Jake Sully\", \"...</td>\n",
              "      <td>[{\"credit_id\": \"52fe48009251416c750aca23\", \"de...</td>\n",
              "    </tr>\n",
              "    <tr>\n",
              "      <th>1</th>\n",
              "      <td>285</td>\n",
              "      <td>Pirates of the Caribbean: At World's End</td>\n",
              "      <td>Captain Barbossa, long believed to be dead, ha...</td>\n",
              "      <td>[{\"id\": 12, \"name\": \"Adventure\"}, {\"id\": 14, \"...</td>\n",
              "      <td>[{\"id\": 270, \"name\": \"ocean\"}, {\"id\": 726, \"na...</td>\n",
              "      <td>[{\"cast_id\": 4, \"character\": \"Captain Jack Spa...</td>\n",
              "      <td>[{\"credit_id\": \"52fe4232c3a36847f800b579\", \"de...</td>\n",
              "    </tr>\n",
              "    <tr>\n",
              "      <th>2</th>\n",
              "      <td>206647</td>\n",
              "      <td>Spectre</td>\n",
              "      <td>A cryptic message from Bond’s past sends him o...</td>\n",
              "      <td>[{\"id\": 28, \"name\": \"Action\"}, {\"id\": 12, \"nam...</td>\n",
              "      <td>[{\"id\": 470, \"name\": \"spy\"}, {\"id\": 818, \"name...</td>\n",
              "      <td>[{\"cast_id\": 1, \"character\": \"James Bond\", \"cr...</td>\n",
              "      <td>[{\"credit_id\": \"54805967c3a36829b5002c41\", \"de...</td>\n",
              "    </tr>\n",
              "    <tr>\n",
              "      <th>3</th>\n",
              "      <td>49026</td>\n",
              "      <td>The Dark Knight Rises</td>\n",
              "      <td>Following the death of District Attorney Harve...</td>\n",
              "      <td>[{\"id\": 28, \"name\": \"Action\"}, {\"id\": 80, \"nam...</td>\n",
              "      <td>[{\"id\": 849, \"name\": \"dc comics\"}, {\"id\": 853,...</td>\n",
              "      <td>[{\"cast_id\": 2, \"character\": \"Bruce Wayne / Ba...</td>\n",
              "      <td>[{\"credit_id\": \"52fe4781c3a36847f81398c3\", \"de...</td>\n",
              "    </tr>\n",
              "    <tr>\n",
              "      <th>4</th>\n",
              "      <td>49529</td>\n",
              "      <td>John Carter</td>\n",
              "      <td>John Carter is a war-weary, former military ca...</td>\n",
              "      <td>[{\"id\": 28, \"name\": \"Action\"}, {\"id\": 12, \"nam...</td>\n",
              "      <td>[{\"id\": 818, \"name\": \"based on novel\"}, {\"id\":...</td>\n",
              "      <td>[{\"cast_id\": 5, \"character\": \"John Carter\", \"c...</td>\n",
              "      <td>[{\"credit_id\": \"52fe479ac3a36847f813eaa3\", \"de...</td>\n",
              "    </tr>\n",
              "  </tbody>\n",
              "</table>\n",
              "</div>\n",
              "    <div class=\"colab-df-buttons\">\n",
              "\n",
              "  <div class=\"colab-df-container\">\n",
              "    <button class=\"colab-df-convert\" onclick=\"convertToInteractive('df-628a4d9f-7f92-44ac-b18c-19b159e9f3d5')\"\n",
              "            title=\"Convert this dataframe to an interactive table.\"\n",
              "            style=\"display:none;\">\n",
              "\n",
              "  <svg xmlns=\"http://www.w3.org/2000/svg\" height=\"24px\" viewBox=\"0 -960 960 960\">\n",
              "    <path d=\"M120-120v-720h720v720H120Zm60-500h600v-160H180v160Zm220 220h160v-160H400v160Zm0 220h160v-160H400v160ZM180-400h160v-160H180v160Zm440 0h160v-160H620v160ZM180-180h160v-160H180v160Zm440 0h160v-160H620v160Z\"/>\n",
              "  </svg>\n",
              "    </button>\n",
              "\n",
              "  <style>\n",
              "    .colab-df-container {\n",
              "      display:flex;\n",
              "      gap: 12px;\n",
              "    }\n",
              "\n",
              "    .colab-df-convert {\n",
              "      background-color: #E8F0FE;\n",
              "      border: none;\n",
              "      border-radius: 50%;\n",
              "      cursor: pointer;\n",
              "      display: none;\n",
              "      fill: #1967D2;\n",
              "      height: 32px;\n",
              "      padding: 0 0 0 0;\n",
              "      width: 32px;\n",
              "    }\n",
              "\n",
              "    .colab-df-convert:hover {\n",
              "      background-color: #E2EBFA;\n",
              "      box-shadow: 0px 1px 2px rgba(60, 64, 67, 0.3), 0px 1px 3px 1px rgba(60, 64, 67, 0.15);\n",
              "      fill: #174EA6;\n",
              "    }\n",
              "\n",
              "    .colab-df-buttons div {\n",
              "      margin-bottom: 4px;\n",
              "    }\n",
              "\n",
              "    [theme=dark] .colab-df-convert {\n",
              "      background-color: #3B4455;\n",
              "      fill: #D2E3FC;\n",
              "    }\n",
              "\n",
              "    [theme=dark] .colab-df-convert:hover {\n",
              "      background-color: #434B5C;\n",
              "      box-shadow: 0px 1px 3px 1px rgba(0, 0, 0, 0.15);\n",
              "      filter: drop-shadow(0px 1px 2px rgba(0, 0, 0, 0.3));\n",
              "      fill: #FFFFFF;\n",
              "    }\n",
              "  </style>\n",
              "\n",
              "    <script>\n",
              "      const buttonEl =\n",
              "        document.querySelector('#df-628a4d9f-7f92-44ac-b18c-19b159e9f3d5 button.colab-df-convert');\n",
              "      buttonEl.style.display =\n",
              "        google.colab.kernel.accessAllowed ? 'block' : 'none';\n",
              "\n",
              "      async function convertToInteractive(key) {\n",
              "        const element = document.querySelector('#df-628a4d9f-7f92-44ac-b18c-19b159e9f3d5');\n",
              "        const dataTable =\n",
              "          await google.colab.kernel.invokeFunction('convertToInteractive',\n",
              "                                                    [key], {});\n",
              "        if (!dataTable) return;\n",
              "\n",
              "        const docLinkHtml = 'Like what you see? Visit the ' +\n",
              "          '<a target=\"_blank\" href=https://colab.research.google.com/notebooks/data_table.ipynb>data table notebook</a>'\n",
              "          + ' to learn more about interactive tables.';\n",
              "        element.innerHTML = '';\n",
              "        dataTable['output_type'] = 'display_data';\n",
              "        await google.colab.output.renderOutput(dataTable, element);\n",
              "        const docLink = document.createElement('div');\n",
              "        docLink.innerHTML = docLinkHtml;\n",
              "        element.appendChild(docLink);\n",
              "      }\n",
              "    </script>\n",
              "  </div>\n",
              "\n",
              "\n",
              "    <div id=\"df-2f4762a1-3f04-436c-8120-806697ab28ea\">\n",
              "      <button class=\"colab-df-quickchart\" onclick=\"quickchart('df-2f4762a1-3f04-436c-8120-806697ab28ea')\"\n",
              "                title=\"Suggest charts\"\n",
              "                style=\"display:none;\">\n",
              "\n",
              "<svg xmlns=\"http://www.w3.org/2000/svg\" height=\"24px\"viewBox=\"0 0 24 24\"\n",
              "     width=\"24px\">\n",
              "    <g>\n",
              "        <path d=\"M19 3H5c-1.1 0-2 .9-2 2v14c0 1.1.9 2 2 2h14c1.1 0 2-.9 2-2V5c0-1.1-.9-2-2-2zM9 17H7v-7h2v7zm4 0h-2V7h2v10zm4 0h-2v-4h2v4z\"/>\n",
              "    </g>\n",
              "</svg>\n",
              "      </button>\n",
              "\n",
              "<style>\n",
              "  .colab-df-quickchart {\n",
              "      --bg-color: #E8F0FE;\n",
              "      --fill-color: #1967D2;\n",
              "      --hover-bg-color: #E2EBFA;\n",
              "      --hover-fill-color: #174EA6;\n",
              "      --disabled-fill-color: #AAA;\n",
              "      --disabled-bg-color: #DDD;\n",
              "  }\n",
              "\n",
              "  [theme=dark] .colab-df-quickchart {\n",
              "      --bg-color: #3B4455;\n",
              "      --fill-color: #D2E3FC;\n",
              "      --hover-bg-color: #434B5C;\n",
              "      --hover-fill-color: #FFFFFF;\n",
              "      --disabled-bg-color: #3B4455;\n",
              "      --disabled-fill-color: #666;\n",
              "  }\n",
              "\n",
              "  .colab-df-quickchart {\n",
              "    background-color: var(--bg-color);\n",
              "    border: none;\n",
              "    border-radius: 50%;\n",
              "    cursor: pointer;\n",
              "    display: none;\n",
              "    fill: var(--fill-color);\n",
              "    height: 32px;\n",
              "    padding: 0;\n",
              "    width: 32px;\n",
              "  }\n",
              "\n",
              "  .colab-df-quickchart:hover {\n",
              "    background-color: var(--hover-bg-color);\n",
              "    box-shadow: 0 1px 2px rgba(60, 64, 67, 0.3), 0 1px 3px 1px rgba(60, 64, 67, 0.15);\n",
              "    fill: var(--button-hover-fill-color);\n",
              "  }\n",
              "\n",
              "  .colab-df-quickchart-complete:disabled,\n",
              "  .colab-df-quickchart-complete:disabled:hover {\n",
              "    background-color: var(--disabled-bg-color);\n",
              "    fill: var(--disabled-fill-color);\n",
              "    box-shadow: none;\n",
              "  }\n",
              "\n",
              "  .colab-df-spinner {\n",
              "    border: 2px solid var(--fill-color);\n",
              "    border-color: transparent;\n",
              "    border-bottom-color: var(--fill-color);\n",
              "    animation:\n",
              "      spin 1s steps(1) infinite;\n",
              "  }\n",
              "\n",
              "  @keyframes spin {\n",
              "    0% {\n",
              "      border-color: transparent;\n",
              "      border-bottom-color: var(--fill-color);\n",
              "      border-left-color: var(--fill-color);\n",
              "    }\n",
              "    20% {\n",
              "      border-color: transparent;\n",
              "      border-left-color: var(--fill-color);\n",
              "      border-top-color: var(--fill-color);\n",
              "    }\n",
              "    30% {\n",
              "      border-color: transparent;\n",
              "      border-left-color: var(--fill-color);\n",
              "      border-top-color: var(--fill-color);\n",
              "      border-right-color: var(--fill-color);\n",
              "    }\n",
              "    40% {\n",
              "      border-color: transparent;\n",
              "      border-right-color: var(--fill-color);\n",
              "      border-top-color: var(--fill-color);\n",
              "    }\n",
              "    60% {\n",
              "      border-color: transparent;\n",
              "      border-right-color: var(--fill-color);\n",
              "    }\n",
              "    80% {\n",
              "      border-color: transparent;\n",
              "      border-right-color: var(--fill-color);\n",
              "      border-bottom-color: var(--fill-color);\n",
              "    }\n",
              "    90% {\n",
              "      border-color: transparent;\n",
              "      border-bottom-color: var(--fill-color);\n",
              "    }\n",
              "  }\n",
              "</style>\n",
              "\n",
              "      <script>\n",
              "        async function quickchart(key) {\n",
              "          const quickchartButtonEl =\n",
              "            document.querySelector('#' + key + ' button');\n",
              "          quickchartButtonEl.disabled = true;  // To prevent multiple clicks.\n",
              "          quickchartButtonEl.classList.add('colab-df-spinner');\n",
              "          try {\n",
              "            const charts = await google.colab.kernel.invokeFunction(\n",
              "                'suggestCharts', [key], {});\n",
              "          } catch (error) {\n",
              "            console.error('Error during call to suggestCharts:', error);\n",
              "          }\n",
              "          quickchartButtonEl.classList.remove('colab-df-spinner');\n",
              "          quickchartButtonEl.classList.add('colab-df-quickchart-complete');\n",
              "        }\n",
              "        (() => {\n",
              "          let quickchartButtonEl =\n",
              "            document.querySelector('#df-2f4762a1-3f04-436c-8120-806697ab28ea button');\n",
              "          quickchartButtonEl.style.display =\n",
              "            google.colab.kernel.accessAllowed ? 'block' : 'none';\n",
              "        })();\n",
              "      </script>\n",
              "    </div>\n",
              "\n",
              "    </div>\n",
              "  </div>\n"
            ],
            "application/vnd.google.colaboratory.intrinsic+json": {
              "type": "dataframe",
              "variable_name": "df",
              "summary": "{\n  \"name\": \"df\",\n  \"rows\": 4801,\n  \"fields\": [\n    {\n      \"column\": \"movie_id\",\n      \"properties\": {\n        \"dtype\": \"string\",\n        \"num_unique_values\": 4795,\n        \"samples\": [\n          \"6947\",\n          \"9907\",\n          4967\n        ],\n        \"semantic_type\": \"\",\n        \"description\": \"\"\n      }\n    },\n    {\n      \"column\": \"title\",\n      \"properties\": {\n        \"dtype\": \"string\",\n        \"num_unique_values\": 4792,\n        \"samples\": [\n          \"The Village\",\n          \"Barnyard\",\n          \"Frost/Nixon\"\n        ],\n        \"semantic_type\": \"\",\n        \"description\": \"\"\n      }\n    },\n    {\n      \"column\": \"overview\",\n      \"properties\": {\n        \"dtype\": \"string\",\n        \"num_unique_values\": 4795,\n        \"samples\": [\n          \"When a willful young man tries to venture beyond his sequestered Pennsylvania hamlet, his actions set off a chain of chilling incidents that will alter the community forever.\",\n          \"When things get crazy at the farm, it's up to a boisterous bovine named Otis (voiced by Kevin James) to save the day in this computer-animated tale. The animals in this barnyard sing, dance and party, but Otis's stern dad (Sam Elliott) warns the crew to keep their cool around humans. Troublemaker Otis rarely listens to his pop, but when the farmer disappears and the animals go nutty, the young cow realizes he must stop the madness.\",\n          \"For three years after being forced from office, Nixon remained silent. But in summer 1977, the steely, cunning former commander-in-chief agreed to sit for one all-inclusive interview to confront the questions of his time in office and the Watergate scandal that ended his presidency. Nixon surprised everyone in selecting Frost as his televised confessor, intending to easily outfox the breezy British showman and secure a place in the hearts and minds of Americans. Likewise, Frost's team harboured doubts about their boss's ability to hold his own. But as the cameras rolled, a charged battle of wits resulted.\"\n        ],\n        \"semantic_type\": \"\",\n        \"description\": \"\"\n      }\n    },\n    {\n      \"column\": \"genres\",\n      \"properties\": {\n        \"dtype\": \"category\",\n        \"num_unique_values\": 1175,\n        \"samples\": [\n          \"[{\\\"id\\\": 12, \\\"name\\\": \\\"Adventure\\\"}, {\\\"id\\\": 16, \\\"name\\\": \\\"Animation\\\"}, {\\\"id\\\": 35, \\\"name\\\": \\\"Comedy\\\"}, {\\\"id\\\": 14, \\\"name\\\": \\\"Fantasy\\\"}]\",\n          \"[{\\\"id\\\": 28, \\\"name\\\": \\\"Action\\\"}, {\\\"id\\\": 35, \\\"name\\\": \\\"Comedy\\\"}, {\\\"id\\\": 18, \\\"name\\\": \\\"Drama\\\"}, {\\\"id\\\": 10751, \\\"name\\\": \\\"Family\\\"}, {\\\"id\\\": 53, \\\"name\\\": \\\"Thriller\\\"}]\",\n          \"[{\\\"id\\\": 12, \\\"name\\\": \\\"Adventure\\\"}, {\\\"id\\\": 16, \\\"name\\\": \\\"Animation\\\"}, {\\\"id\\\": 10751, \\\"name\\\": \\\"Family\\\"}, {\\\"id\\\": 14, \\\"name\\\": \\\"Fantasy\\\"}, {\\\"id\\\": 878, \\\"name\\\": \\\"Science Fiction\\\"}]\"\n        ],\n        \"semantic_type\": \"\",\n        \"description\": \"\"\n      }\n    },\n    {\n      \"column\": \"keywords\",\n      \"properties\": {\n        \"dtype\": \"string\",\n        \"num_unique_values\": 4215,\n        \"samples\": [\n          \"[{\\\"id\\\": 473, \\\"name\\\": \\\"chain\\\"}, {\\\"id\\\": 1375, \\\"name\\\": \\\"submachine gun\\\"}, {\\\"id\\\": 1568, \\\"name\\\": \\\"undercover\\\"}, {\\\"id\\\": 6212, \\\"name\\\": \\\"smuggling\\\"}, {\\\"id\\\": 7375, \\\"name\\\": \\\"twin brother\\\"}, {\\\"id\\\": 8828, \\\"name\\\": \\\"marvel comic\\\"}, {\\\"id\\\": 13116, \\\"name\\\": \\\"one man army\\\"}, {\\\"id\\\": 14546, \\\"name\\\": \\\"massacre\\\"}, {\\\"id\\\": 14687, \\\"name\\\": \\\"extreme violence\\\"}, {\\\"id\\\": 18187, \\\"name\\\": \\\"family reunion\\\"}, {\\\"id\\\": 33595, \\\"name\\\": \\\"pier\\\"}]\",\n          \"[{\\\"id\\\": 566, \\\"name\\\": \\\"sexual identity\\\"}, {\\\"id\\\": 2580, \\\"name\\\": \\\"shipwreck\\\"}, {\\\"id\\\": 4663, \\\"name\\\": \\\"lovers\\\"}, {\\\"id\\\": 9743, \\\"name\\\": \\\"stranded\\\"}, {\\\"id\\\": 10792, \\\"name\\\": \\\"marooned\\\"}, {\\\"id\\\": 11823, \\\"name\\\": \\\"pacific island\\\"}, {\\\"id\\\": 13130, \\\"name\\\": \\\"teenager\\\"}, {\\\"id\\\": 155746, \\\"name\\\": \\\"deserted island\\\"}, {\\\"id\\\": 157524, \\\"name\\\": \\\"tropical island\\\"}, {\\\"id\\\": 179578, \\\"name\\\": \\\"lost at sea\\\"}]\",\n          \"[{\\\"id\\\": 2101, \\\"name\\\": \\\"garage\\\"}, {\\\"id\\\": 3568, \\\"name\\\": \\\"lone wolf\\\"}, {\\\"id\\\": 3737, \\\"name\\\": \\\"dying and death\\\"}, {\\\"id\\\": 6203, \\\"name\\\": \\\"loss\\\"}, {\\\"id\\\": 6262, \\\"name\\\": \\\"delusion\\\"}, {\\\"id\\\": 6300, \\\"name\\\": \\\"puppet\\\"}, {\\\"id\\\": 33630, \\\"name\\\": \\\"doll\\\"}]\"\n        ],\n        \"semantic_type\": \"\",\n        \"description\": \"\"\n      }\n    },\n    {\n      \"column\": \"cast\",\n      \"properties\": {\n        \"dtype\": \"string\",\n        \"num_unique_values\": 4754,\n        \"samples\": [\n          \"[{\\\"cast_id\\\": 5, \\\"character\\\": \\\"Despereaux (voice)\\\", \\\"credit_id\\\": \\\"52fe43409251416c750093cf\\\", \\\"gender\\\": 2, \\\"id\\\": 4756, \\\"name\\\": \\\"Matthew Broderick\\\", \\\"order\\\": 0}, {\\\"cast_id\\\": 6, \\\"character\\\": \\\"Roscuro (voice)\\\", \\\"credit_id\\\": \\\"52fe43409251416c750093d3\\\", \\\"gender\\\": 2, \\\"id\\\": 4483, \\\"name\\\": \\\"Dustin Hoffman\\\", \\\"order\\\": 1}, {\\\"cast_id\\\": 4, \\\"character\\\": \\\"Princess Pea (voice)\\\", \\\"credit_id\\\": \\\"52fe43409251416c750093cb\\\", \\\"gender\\\": 1, \\\"id\\\": 10990, \\\"name\\\": \\\"Emma Watson\\\", \\\"order\\\": 2}, {\\\"cast_id\\\": 9, \\\"character\\\": \\\"Miggery Sow (voice)\\\", \\\"credit_id\\\": \\\"5463b310c3a3681255002bd4\\\", \\\"gender\\\": 0, \\\"id\\\": 30364, \\\"name\\\": \\\"Tracey Ullman\\\", \\\"order\\\": 3}, {\\\"cast_id\\\": 10, \\\"character\\\": \\\"Chef Andre (voice)\\\", \\\"credit_id\\\": \\\"5463b31f0e0a267803002b2c\\\", \\\"gender\\\": 2, \\\"id\\\": 8945, \\\"name\\\": \\\"Kevin Kline\\\", \\\"order\\\": 4}, {\\\"cast_id\\\": 7, \\\"character\\\": \\\"The Narrator (voice)\\\", \\\"credit_id\\\": \\\"52fe43409251416c750093d7\\\", \\\"gender\\\": 1, \\\"id\\\": 10205, \\\"name\\\": \\\"Sigourney Weaver\\\", \\\"order\\\": 5}, {\\\"cast_id\\\": 11, \\\"character\\\": \\\"Lester (voice)\\\", \\\"credit_id\\\": \\\"5463b32c0e0a267806002bea\\\", \\\"gender\\\": 2, \\\"id\\\": 3905, \\\"name\\\": \\\"William H. Macy\\\", \\\"order\\\": 6}, {\\\"cast_id\\\": 12, \\\"character\\\": \\\"Boldo (voice)\\\", \\\"credit_id\\\": \\\"5463b33ac3a3681252002aa4\\\", \\\"gender\\\": 2, \\\"id\\\": 2283, \\\"name\\\": \\\"Stanley Tucci\\\", \\\"order\\\": 7}, {\\\"cast_id\\\": 13, \\\"character\\\": \\\"Botticelli (voice)\\\", \\\"credit_id\\\": \\\"5463b34dc3a36812590029dc\\\", \\\"gender\\\": 2, \\\"id\\\": 8785, \\\"name\\\": \\\"Ciar\\\\u00e1n Hinds\\\", \\\"order\\\": 8}, {\\\"cast_id\\\": 14, \\\"character\\\": \\\"Gregory (voice)\\\", \\\"credit_id\\\": \\\"5463b369c3a3681247002a7e\\\", \\\"gender\\\": 2, \\\"id\\\": 1923, \\\"name\\\": \\\"Robbie Coltrane\\\", \\\"order\\\": 9}, {\\\"cast_id\\\": 15, \\\"character\\\": \\\"Furlough (voice)\\\", \\\"credit_id\\\": \\\"5463b3850e0a267810002b93\\\", \\\"gender\\\": 2, \\\"id\\\": 25147, \\\"name\\\": \\\"Tony Hale\\\", \\\"order\\\": 10}, {\\\"cast_id\\\": 16, \\\"character\\\": \\\"Antoinette (voice)\\\", \\\"credit_id\\\": \\\"5463b3a20e0a26780d002b94\\\", \\\"gender\\\": 1, \\\"id\\\": 4432, \\\"name\\\": \\\"Frances Conroy\\\", \\\"order\\\": 11}, {\\\"cast_id\\\": 17, \\\"character\\\": \\\"Mayor (voice)\\\", \\\"credit_id\\\": \\\"5463b3afc3a3681255002be8\\\", \\\"gender\\\": 2, \\\"id\\\": 8924, \\\"name\\\": \\\"Frank Langella\\\", \\\"order\\\": 12}, {\\\"cast_id\\\": 18, \\\"character\\\": \\\"Principal (voice)\\\", \\\"credit_id\\\": \\\"5463b3c40e0a26780a002c32\\\", \\\"gender\\\": 2, \\\"id\\\": 28633, \\\"name\\\": \\\"Richard Jenkins\\\", \\\"order\\\": 13}, {\\\"cast_id\\\": 19, \\\"character\\\": \\\"Hovis (voice)\\\", \\\"credit_id\\\": \\\"5463b3d50e0a26780d002b9c\\\", \\\"gender\\\": 2, \\\"id\\\": 1062, \\\"name\\\": \\\"Christopher Lloyd\\\", \\\"order\\\": 14}, {\\\"cast_id\\\": 26, \\\"character\\\": \\\"Pietro (voice)\\\", \\\"credit_id\\\": \\\"58ba8a4b925141607301dc2d\\\", \\\"gender\\\": 2, \\\"id\\\": 63474, \\\"name\\\": \\\"Charles Shaughnessy\\\", \\\"order\\\": 15}, {\\\"cast_id\\\": 47, \\\"character\\\": \\\"Queen (voice)\\\", \\\"credit_id\\\": \\\"58bad371c3a368668602088f\\\", \\\"gender\\\": 1, \\\"id\\\": 68740, \\\"name\\\": \\\"Patricia Cullen\\\", \\\"order\\\": 16}, {\\\"cast_id\\\": 48, \\\"character\\\": \\\"Teacher (voice)\\\", \\\"credit_id\\\": \\\"58bad381c3a368666b020fd0\\\", \\\"gender\\\": 1, \\\"id\\\": 148632, \\\"name\\\": \\\"McNally Sagal\\\", \\\"order\\\": 17}]\",\n          \"[{\\\"cast_id\\\": 1, \\\"character\\\": \\\"Sally Jackson\\\", \\\"credit_id\\\": \\\"52fe44d59251416c750428ef\\\", \\\"gender\\\": 1, \\\"id\\\": 69597, \\\"name\\\": \\\"Drew Barrymore\\\", \\\"order\\\": 0}, {\\\"cast_id\\\": 2, \\\"character\\\": \\\"Beatrice Lever\\\", \\\"credit_id\\\": \\\"52fe44d59251416c750428f3\\\", \\\"gender\\\": 0, \\\"id\\\": 11514, \\\"name\\\": \\\"Catherine O'Hara\\\", \\\"order\\\": 1}, {\\\"cast_id\\\": 3, \\\"character\\\": \\\"Dorian Montier\\\", \\\"credit_id\\\": \\\"52fe44d59251416c750428f7\\\", \\\"gender\\\": 2, \\\"id\\\": 36422, \\\"name\\\": \\\"Luke Wilson\\\", \\\"order\\\": 2}, {\\\"cast_id\\\": 4, \\\"character\\\": \\\"Angus Montier\\\", \\\"credit_id\\\": \\\"52fe44d59251416c750428fb\\\", \\\"gender\\\": 2, \\\"id\\\": 28410, \\\"name\\\": \\\"Jake Busey\\\", \\\"order\\\": 3}, {\\\"cast_id\\\": 15, \\\"character\\\": \\\"Mrs. Jackson\\\", \\\"credit_id\\\": \\\"52fe44d59251416c7504293b\\\", \\\"gender\\\": 0, \\\"id\\\": 10409, \\\"name\\\": \\\"Shelley Duvall\\\", \\\"order\\\": 4}, {\\\"cast_id\\\": 16, \\\"character\\\": \\\"Billy\\\", \\\"credit_id\\\": \\\"52fe44d59251416c7504293f\\\", \\\"gender\\\": 2, \\\"id\\\": 5150, \\\"name\\\": \\\"Kim Robillard\\\", \\\"order\\\": 5}, {\\\"cast_id\\\": 17, \\\"character\\\": \\\"Roy\\\", \\\"credit_id\\\": \\\"52fe44d59251416c75042943\\\", \\\"gender\\\": 2, \\\"id\\\": 15028, \\\"name\\\": \\\"Daryl Mitchell\\\", \\\"order\\\": 6}, {\\\"cast_id\\\": 18, \\\"character\\\": \\\"Henry Lever\\\", \\\"credit_id\\\": \\\"52fe44d59251416c75042947\\\", \\\"gender\\\": 2, \\\"id\\\": 8191, \\\"name\\\": \\\"Chris Ellis\\\", \\\"order\\\": 7}]\",\n          \"[{\\\"cast_id\\\": 13, \\\"character\\\": \\\"Mitch Martin\\\", \\\"credit_id\\\": \\\"52fe446d9251416c75034583\\\", \\\"gender\\\": 2, \\\"id\\\": 36422, \\\"name\\\": \\\"Luke Wilson\\\", \\\"order\\\": 0}, {\\\"cast_id\\\": 14, \\\"character\\\": \\\"Frank\\\", \\\"credit_id\\\": \\\"52fe446d9251416c75034587\\\", \\\"gender\\\": 2, \\\"id\\\": 23659, \\\"name\\\": \\\"Will Ferrell\\\", \\\"order\\\": 1}, {\\\"cast_id\\\": 15, \\\"character\\\": \\\"Beanie\\\", \\\"credit_id\\\": \\\"52fe446d9251416c7503458b\\\", \\\"gender\\\": 2, \\\"id\\\": 4937, \\\"name\\\": \\\"Vince Vaughn\\\", \\\"order\\\": 2}, {\\\"cast_id\\\": 16, \\\"character\\\": \\\"Nicole\\\", \\\"credit_id\\\": \\\"52fe446d9251416c7503458f\\\", \\\"gender\\\": 1, \\\"id\\\": 9280, \\\"name\\\": \\\"Ellen Pompeo\\\", \\\"order\\\": 3}, {\\\"cast_id\\\": 17, \\\"character\\\": \\\"Lara Campbell\\\", \\\"credit_id\\\": \\\"52fe446d9251416c75034593\\\", \\\"gender\\\": 1, \\\"id\\\": 15050, \\\"name\\\": \\\"Leah Remini\\\", \\\"order\\\": 4}, {\\\"cast_id\\\": 18, \\\"character\\\": \\\"Darcie\\\", \\\"credit_id\\\": \\\"52fe446d9251416c75034597\\\", \\\"gender\\\": 1, \\\"id\\\": 25837, \\\"name\\\": \\\"Elisha Cuthbert\\\", \\\"order\\\": 5}, {\\\"cast_id\\\": 19, \\\"character\\\": \\\"Dean Gordon Pritchard\\\", \\\"credit_id\\\": \\\"52fe446d9251416c7503459b\\\", \\\"gender\\\": 2, \\\"id\\\": 12799, \\\"name\\\": \\\"Jeremy Piven\\\", \\\"order\\\": 6}, {\\\"cast_id\\\": 20, \\\"character\\\": \\\"Heidi\\\", \\\"credit_id\\\": \\\"52fe446d9251416c7503459f\\\", \\\"gender\\\": 1, \\\"id\\\": 3196, \\\"name\\\": \\\"Juliette Lewis\\\", \\\"order\\\": 7}, {\\\"cast_id\\\": 21, \\\"character\\\": \\\"Erica\\\", \\\"credit_id\\\": \\\"52fe446d9251416c750345a3\\\", \\\"gender\\\": 1, \\\"id\\\": 164945, \\\"name\\\": \\\"Sarah Shahi\\\", \\\"order\\\": 8}, {\\\"cast_id\\\": 22, \\\"character\\\": \\\"Marissa Jones\\\", \\\"credit_id\\\": \\\"52fe446d9251416c750345a7\\\", \\\"gender\\\": 1, \\\"id\\\": 68495, \\\"name\\\": \\\"Perrey Reeves\\\", \\\"order\\\": 9}, {\\\"cast_id\\\": 23, \\\"character\\\": \\\"Mark\\\", \\\"credit_id\\\": \\\"52fe446d9251416c750345ab\\\", \\\"gender\\\": 2, \\\"id\\\": 60951, \\\"name\\\": \\\"Craig Kilborn\\\", \\\"order\\\": 10}, {\\\"cast_id\\\": 24, \\\"character\\\": \\\"Caterer\\\", \\\"credit_id\\\": \\\"532c123f9251416e9f000c9f\\\", \\\"gender\\\": 1, \\\"id\\\": 112464, \\\"name\\\": \\\"Ashley Jones\\\", \\\"order\\\": 11}, {\\\"cast_id\\\": 25, \\\"character\\\": \\\"Julie\\\", \\\"credit_id\\\": \\\"532c13d79251416e8c000d75\\\", \\\"gender\\\": 0, \\\"id\\\": 1244362, \\\"name\\\": \\\"Phe Caplan\\\", \\\"order\\\": 12}, {\\\"cast_id\\\": 26, \\\"character\\\": \\\"Peppers\\\", \\\"credit_id\\\": \\\"589a28e19251413abb0006e5\\\", \\\"gender\\\": 2, \\\"id\\\": 57599, \\\"name\\\": \\\"Seann William Scott\\\", \\\"order\\\": 13}]\"\n        ],\n        \"semantic_type\": \"\",\n        \"description\": \"\"\n      }\n    },\n    {\n      \"column\": \"crew\",\n      \"properties\": {\n        \"dtype\": \"string\",\n        \"num_unique_values\": 4768,\n        \"samples\": [\n          \"[{\\\"credit_id\\\": \\\"52fe4691c3a36847f81061e5\\\", \\\"department\\\": \\\"Directing\\\", \\\"gender\\\": 2, \\\"id\\\": 190, \\\"job\\\": \\\"Director\\\", \\\"name\\\": \\\"Clint Eastwood\\\"}, {\\\"credit_id\\\": \\\"52fe4691c3a36847f810622b\\\", \\\"department\\\": \\\"Writing\\\", \\\"gender\\\": 2, \\\"id\\\": 15730, \\\"job\\\": \\\"Screenplay\\\", \\\"name\\\": \\\"Peter Morgan\\\"}]\",\n          \"[{\\\"credit_id\\\": \\\"52fe460dc3a36847f80e9a7f\\\", \\\"department\\\": \\\"Costume & Make-Up\\\", \\\"gender\\\": 1, \\\"id\\\": 4350, \\\"job\\\": \\\"Costume Design\\\", \\\"name\\\": \\\"Edith Head\\\"}, {\\\"credit_id\\\": \\\"52fe460dc3a36847f80e9a55\\\", \\\"department\\\": \\\"Writing\\\", \\\"gender\\\": 2, \\\"id\\\": 4415, \\\"job\\\": \\\"Original Story\\\", \\\"name\\\": \\\"Federico Fellini\\\"}, {\\\"credit_id\\\": \\\"52fe460dc3a36847f80e9a5b\\\", \\\"department\\\": \\\"Writing\\\", \\\"gender\\\": 2, \\\"id\\\": 5396, \\\"job\\\": \\\"Original Story\\\", \\\"name\\\": \\\"Tullio Pinelli\\\"}, {\\\"credit_id\\\": \\\"52fe460dc3a36847f80e9a61\\\", \\\"department\\\": \\\"Writing\\\", \\\"gender\\\": 2, \\\"id\\\": 5397, \\\"job\\\": \\\"Original Story\\\", \\\"name\\\": \\\"Ennio Flaiano\\\"}, {\\\"credit_id\\\": \\\"52fe460dc3a36847f80e9a73\\\", \\\"department\\\": \\\"Camera\\\", \\\"gender\\\": 2, \\\"id\\\": 10005, \\\"job\\\": \\\"Director of Photography\\\", \\\"name\\\": \\\"Robert Surtees\\\"}, {\\\"credit_id\\\": \\\"52fe460dc3a36847f80e9a67\\\", \\\"department\\\": \\\"Production\\\", \\\"gender\\\": 2, \\\"id\\\": 30103, \\\"job\\\": \\\"Producer\\\", \\\"name\\\": \\\"Robert Arthur\\\"}, {\\\"credit_id\\\": \\\"52fe460dc3a36847f80e9a79\\\", \\\"department\\\": \\\"Editing\\\", \\\"gender\\\": 2, \\\"id\\\": 30259, \\\"job\\\": \\\"Editor\\\", \\\"name\\\": \\\"Stuart Gilmore\\\"}, {\\\"credit_id\\\": \\\"52fe460dc3a36847f80e9a4f\\\", \\\"department\\\": \\\"Writing\\\", \\\"gender\\\": 2, \\\"id\\\": 41712, \\\"job\\\": \\\"Screenplay\\\", \\\"name\\\": \\\"Peter Stone\\\"}, {\\\"credit_id\\\": \\\"52fe460dc3a36847f80e9a6d\\\", \\\"department\\\": \\\"Sound\\\", \\\"gender\\\": 0, \\\"id\\\": 65617, \\\"job\\\": \\\"Original Music Composer\\\", \\\"name\\\": \\\"Cy Coleman\\\"}, {\\\"credit_id\\\": \\\"52fe460dc3a36847f80e9a35\\\", \\\"department\\\": \\\"Directing\\\", \\\"gender\\\": 0, \\\"id\\\": 66777, \\\"job\\\": \\\"Director\\\", \\\"name\\\": \\\"Bob Fosse\\\"}]\",\n          \"[{\\\"credit_id\\\": \\\"55478ac9c3a3680ce600ba28\\\", \\\"department\\\": \\\"Costume & Make-Up\\\", \\\"gender\\\": 1, \\\"id\\\": 946, \\\"job\\\": \\\"Costume Design\\\", \\\"name\\\": \\\"Janty Yates\\\"}, {\\\"credit_id\\\": \\\"55478a10c3a36856e5008989\\\", \\\"department\\\": \\\"Camera\\\", \\\"gender\\\": 2, \\\"id\\\": 3960, \\\"job\\\": \\\"Director of Photography\\\", \\\"name\\\": \\\"Tony Pierce-Roberts\\\"}, {\\\"credit_id\\\": \\\"52fe46459251416c75072ead\\\", \\\"department\\\": \\\"Writing\\\", \\\"gender\\\": 2, \\\"id\\\": 14393, \\\"job\\\": \\\"Author\\\", \\\"name\\\": \\\"Jay Cocks\\\"}, {\\\"credit_id\\\": \\\"55478a519251411889004f1d\\\", \\\"department\\\": \\\"Art\\\", \\\"gender\\\": 1, \\\"id\\\": 6379, \\\"job\\\": \\\"Production Design\\\", \\\"name\\\": \\\"Eve Stewart\\\"}, {\\\"credit_id\\\": \\\"55478e7992514111470045c0\\\", \\\"department\\\": \\\"Art\\\", \\\"gender\\\": 0, \\\"id\\\": 6381, \\\"job\\\": \\\"Assistant Art Director\\\", \\\"name\\\": \\\"Andrew Grant\\\"}, {\\\"credit_id\\\": \\\"52fe46459251416c75072ea7\\\", \\\"department\\\": \\\"Directing\\\", \\\"gender\\\": 2, \\\"id\\\": 11472, \\\"job\\\": \\\"Director\\\", \\\"name\\\": \\\"Irwin Winkler\\\"}, {\\\"credit_id\\\": \\\"554789f8c3a3680ce800b50c\\\", \\\"department\\\": \\\"Production\\\", \\\"gender\\\": 2, \\\"id\\\": 11472, \\\"job\\\": \\\"Producer\\\", \\\"name\\\": \\\"Irwin Winkler\\\"}, {\\\"credit_id\\\": \\\"554789e49251414c9200958e\\\", \\\"department\\\": \\\"Production\\\", \\\"gender\\\": 2, \\\"id\\\": 16487, \\\"job\\\": \\\"Producer\\\", \\\"name\\\": \\\"Charles Winkler\\\"}, {\\\"credit_id\\\": \\\"55478a379251411889004f1a\\\", \\\"department\\\": \\\"Production\\\", \\\"gender\\\": 1, \\\"id\\\": 16363, \\\"job\\\": \\\"Casting\\\", \\\"name\\\": \\\"Nina Gold\\\"}, {\\\"credit_id\\\": \\\"554789d19251414c9200958b\\\", \\\"department\\\": \\\"Production\\\", \\\"gender\\\": 2, \\\"id\\\": 18330, \\\"job\\\": \\\"Producer\\\", \\\"name\\\": \\\"Rob Cowan\\\"}, {\\\"credit_id\\\": \\\"55478a239251414c92009591\\\", \\\"department\\\": \\\"Editing\\\", \\\"gender\\\": 1, \\\"id\\\": 53645, \\\"job\\\": \\\"Editor\\\", \\\"name\\\": \\\"Julie Monroe\\\"}, {\\\"credit_id\\\": \\\"55478a8cc3a36856e500898e\\\", \\\"department\\\": \\\"Art\\\", \\\"gender\\\": 2, \\\"id\\\": 63131, \\\"job\\\": \\\"Art Direction\\\", \\\"name\\\": \\\"John Hill\\\"}, {\\\"credit_id\\\": \\\"56e7f13c92514109b4000c64\\\", \\\"department\\\": \\\"Art\\\", \\\"gender\\\": 2, \\\"id\\\": 66552, \\\"job\\\": \\\"Set Decoration\\\", \\\"name\\\": \\\"John Bush\\\"}, {\\\"credit_id\\\": \\\"55478e3dc3a36856e50089ca\\\", \\\"department\\\": \\\"Costume & Make-Up\\\", \\\"gender\\\": 0, \\\"id\\\": 1319843, \\\"job\\\": \\\"Makeup Artist\\\", \\\"name\\\": \\\"Felicity Bowring\\\"}, {\\\"credit_id\\\": \\\"55478ee79251414c920095ea\\\", \\\"department\\\": \\\"Costume & Make-Up\\\", \\\"gender\\\": 0, \\\"id\\\": 1322137, \\\"job\\\": \\\"Costume Supervisor\\\", \\\"name\\\": \\\"Clare Spragge\\\"}, {\\\"credit_id\\\": \\\"55478ebfc3a3680cd700bca3\\\", \\\"department\\\": \\\"Directing\\\", \\\"gender\\\": 0, \\\"id\\\": 1367566, \\\"job\\\": \\\"Script Supervisor\\\", \\\"name\\\": \\\"Libbie Barr\\\"}, {\\\"credit_id\\\": \\\"55478eaa9251411889004f71\\\", \\\"department\\\": \\\"Crew\\\", \\\"gender\\\": 0, \\\"id\\\": 1401118, \\\"job\\\": \\\"Choreographer\\\", \\\"name\\\": \\\"Francesca Jaynes\\\"}, {\\\"credit_id\\\": \\\"55478e18c3a3680cd700bc98\\\", \\\"department\\\": \\\"Costume & Make-Up\\\", \\\"gender\\\": 0, \\\"id\\\": 1462925, \\\"job\\\": \\\"Hairstylist\\\", \\\"name\\\": \\\"Beth Miller\\\"}]\"\n        ],\n        \"semantic_type\": \"\",\n        \"description\": \"\"\n      }\n    }\n  ]\n}"
            }
          },
          "metadata": {},
          "execution_count": 20
        }
      ]
    },
    {
      "cell_type": "code",
      "source": [
        "import ast\n",
        "\n",
        "# df.iloc[0].genres\n",
        "\n",
        "# ast.literal_eval('[{\"id\": 28, \"name\": \"Action\"}, {\"id\": 12, \"name\": \"Adventure\"}, {\"id\": 14, \"name\": \"Fantasy\"}, {\"id\": 878, \"name\": \"Science Fiction\"}]')\n",
        "\n",
        "def convert_genre(obj):\n",
        "  L = [];\n",
        "\n",
        "  for j in ast.literal_eval(obj):\n",
        "    L.append(j['name'])\n",
        "\n",
        "  return L"
      ],
      "metadata": {
        "id": "-J8O_nkKZFuF"
      },
      "execution_count": null,
      "outputs": []
    },
    {
      "cell_type": "code",
      "source": [
        "def convert_keywords(obj):\n",
        "  L =[];\n",
        "  for i in ast.literal_eval(obj):\n",
        "    L.append(i['name'])\n",
        "  return L"
      ],
      "metadata": {
        "id": "U65lzetsbLx4"
      },
      "execution_count": null,
      "outputs": []
    },
    {
      "cell_type": "code",
      "source": [
        "def convert_cast(obj):\n",
        "  L = [];\n",
        "  count = 0;\n",
        "  for i in ast.literal_eval(obj):\n",
        "    if count != 3:\n",
        "      L.append(i['name'])\n",
        "      count += 1\n",
        "    else:\n",
        "      break\n",
        "  return L\n"
      ],
      "metadata": {
        "id": "ra6lMEBKbvgS"
      },
      "execution_count": null,
      "outputs": []
    },
    {
      "cell_type": "code",
      "source": [
        "import ast\n",
        "\n",
        "def fetch_director(obj):\n",
        "  L = [];\n",
        "  try:\n",
        "    for i in ast.literal_eval(obj):\n",
        "      if i['job'] == 'Director':\n",
        "        L.append(i['name'])\n",
        "        break\n",
        "  except (ValueError, SyntaxError):\n",
        "    pass  # Handle cases where ast.literal_eval fails\n",
        "  return L"
      ],
      "metadata": {
        "id": "w_Q1Ds4ecRZ7"
      },
      "execution_count": null,
      "outputs": []
    },
    {
      "cell_type": "code",
      "source": [
        "df['genres'] = df['genres'].apply(convert_genre)\n",
        "# df.iloc[0].keywords\n",
        "df['keywords'] = df['keywords'].apply(convert_keywords)\n",
        "\n",
        "# ast.literal_eval(df.iloc[0].cast)\n",
        "df['cast'] = df['cast'].apply(convert_cast)"
      ],
      "metadata": {
        "colab": {
          "base_uri": "https://localhost:8080/"
        },
        "id": "AQRTOfs2ZtyO",
        "outputId": "88cee6a6-d251-489b-babb-fcd60d197b3c"
      },
      "execution_count": null,
      "outputs": [
        {
          "output_type": "stream",
          "name": "stderr",
          "text": [
            "/tmp/ipython-input-3182743317.py:1: SettingWithCopyWarning: \n",
            "A value is trying to be set on a copy of a slice from a DataFrame.\n",
            "Try using .loc[row_indexer,col_indexer] = value instead\n",
            "\n",
            "See the caveats in the documentation: https://pandas.pydata.org/pandas-docs/stable/user_guide/indexing.html#returning-a-view-versus-a-copy\n",
            "  df['genres'] = df['genres'].apply(convert_genre)\n",
            "/tmp/ipython-input-3182743317.py:3: SettingWithCopyWarning: \n",
            "A value is trying to be set on a copy of a slice from a DataFrame.\n",
            "Try using .loc[row_indexer,col_indexer] = value instead\n",
            "\n",
            "See the caveats in the documentation: https://pandas.pydata.org/pandas-docs/stable/user_guide/indexing.html#returning-a-view-versus-a-copy\n",
            "  df['keywords'] = df['keywords'].apply(convert_keywords)\n",
            "/tmp/ipython-input-3182743317.py:6: SettingWithCopyWarning: \n",
            "A value is trying to be set on a copy of a slice from a DataFrame.\n",
            "Try using .loc[row_indexer,col_indexer] = value instead\n",
            "\n",
            "See the caveats in the documentation: https://pandas.pydata.org/pandas-docs/stable/user_guide/indexing.html#returning-a-view-versus-a-copy\n",
            "  df['cast'] = df['cast'].apply(convert_cast)\n"
          ]
        }
      ]
    },
    {
      "cell_type": "code",
      "source": [
        "df.head()"
      ],
      "metadata": {
        "colab": {
          "base_uri": "https://localhost:8080/",
          "height": 379
        },
        "id": "iAYFZnlevH5C",
        "outputId": "76ffcd0a-492f-4193-baed-6d66561d5428"
      },
      "execution_count": null,
      "outputs": [
        {
          "output_type": "execute_result",
          "data": {
            "text/plain": [
              "  movie_id                                     title  \\\n",
              "0    19995                                    Avatar   \n",
              "1      285  Pirates of the Caribbean: At World's End   \n",
              "2   206647                                   Spectre   \n",
              "3    49026                     The Dark Knight Rises   \n",
              "4    49529                               John Carter   \n",
              "\n",
              "                                            overview  \\\n",
              "0  In the 22nd century, a paraplegic Marine is di...   \n",
              "1  Captain Barbossa, long believed to be dead, ha...   \n",
              "2  A cryptic message from Bond’s past sends him o...   \n",
              "3  Following the death of District Attorney Harve...   \n",
              "4  John Carter is a war-weary, former military ca...   \n",
              "\n",
              "                                          genres  \\\n",
              "0  [Action, Adventure, Fantasy, Science Fiction]   \n",
              "1                   [Adventure, Fantasy, Action]   \n",
              "2                     [Action, Adventure, Crime]   \n",
              "3               [Action, Crime, Drama, Thriller]   \n",
              "4           [Action, Adventure, Science Fiction]   \n",
              "\n",
              "                                            keywords  \\\n",
              "0  [culture clash, future, space war, space colon...   \n",
              "1  [ocean, drug abuse, exotic island, east india ...   \n",
              "2  [spy, based on novel, secret agent, sequel, mi...   \n",
              "3  [dc comics, crime fighter, terrorist, secret i...   \n",
              "4  [based on novel, mars, medallion, space travel...   \n",
              "\n",
              "                                               cast  \\\n",
              "0  [Sam Worthington, Zoe Saldana, Sigourney Weaver]   \n",
              "1     [Johnny Depp, Orlando Bloom, Keira Knightley]   \n",
              "2      [Daniel Craig, Christoph Waltz, Léa Seydoux]   \n",
              "3      [Christian Bale, Michael Caine, Gary Oldman]   \n",
              "4    [Taylor Kitsch, Lynn Collins, Samantha Morton]   \n",
              "\n",
              "                                                crew  \n",
              "0  [{\"credit_id\": \"52fe48009251416c750aca23\", \"de...  \n",
              "1  [{\"credit_id\": \"52fe4232c3a36847f800b579\", \"de...  \n",
              "2  [{\"credit_id\": \"54805967c3a36829b5002c41\", \"de...  \n",
              "3  [{\"credit_id\": \"52fe4781c3a36847f81398c3\", \"de...  \n",
              "4  [{\"credit_id\": \"52fe479ac3a36847f813eaa3\", \"de...  "
            ],
            "text/html": [
              "\n",
              "  <div id=\"df-3d480f9f-0d4b-4700-8e3f-f4b5e2b136b9\" class=\"colab-df-container\">\n",
              "    <div>\n",
              "<style scoped>\n",
              "    .dataframe tbody tr th:only-of-type {\n",
              "        vertical-align: middle;\n",
              "    }\n",
              "\n",
              "    .dataframe tbody tr th {\n",
              "        vertical-align: top;\n",
              "    }\n",
              "\n",
              "    .dataframe thead th {\n",
              "        text-align: right;\n",
              "    }\n",
              "</style>\n",
              "<table border=\"1\" class=\"dataframe\">\n",
              "  <thead>\n",
              "    <tr style=\"text-align: right;\">\n",
              "      <th></th>\n",
              "      <th>movie_id</th>\n",
              "      <th>title</th>\n",
              "      <th>overview</th>\n",
              "      <th>genres</th>\n",
              "      <th>keywords</th>\n",
              "      <th>cast</th>\n",
              "      <th>crew</th>\n",
              "    </tr>\n",
              "  </thead>\n",
              "  <tbody>\n",
              "    <tr>\n",
              "      <th>0</th>\n",
              "      <td>19995</td>\n",
              "      <td>Avatar</td>\n",
              "      <td>In the 22nd century, a paraplegic Marine is di...</td>\n",
              "      <td>[Action, Adventure, Fantasy, Science Fiction]</td>\n",
              "      <td>[culture clash, future, space war, space colon...</td>\n",
              "      <td>[Sam Worthington, Zoe Saldana, Sigourney Weaver]</td>\n",
              "      <td>[{\"credit_id\": \"52fe48009251416c750aca23\", \"de...</td>\n",
              "    </tr>\n",
              "    <tr>\n",
              "      <th>1</th>\n",
              "      <td>285</td>\n",
              "      <td>Pirates of the Caribbean: At World's End</td>\n",
              "      <td>Captain Barbossa, long believed to be dead, ha...</td>\n",
              "      <td>[Adventure, Fantasy, Action]</td>\n",
              "      <td>[ocean, drug abuse, exotic island, east india ...</td>\n",
              "      <td>[Johnny Depp, Orlando Bloom, Keira Knightley]</td>\n",
              "      <td>[{\"credit_id\": \"52fe4232c3a36847f800b579\", \"de...</td>\n",
              "    </tr>\n",
              "    <tr>\n",
              "      <th>2</th>\n",
              "      <td>206647</td>\n",
              "      <td>Spectre</td>\n",
              "      <td>A cryptic message from Bond’s past sends him o...</td>\n",
              "      <td>[Action, Adventure, Crime]</td>\n",
              "      <td>[spy, based on novel, secret agent, sequel, mi...</td>\n",
              "      <td>[Daniel Craig, Christoph Waltz, Léa Seydoux]</td>\n",
              "      <td>[{\"credit_id\": \"54805967c3a36829b5002c41\", \"de...</td>\n",
              "    </tr>\n",
              "    <tr>\n",
              "      <th>3</th>\n",
              "      <td>49026</td>\n",
              "      <td>The Dark Knight Rises</td>\n",
              "      <td>Following the death of District Attorney Harve...</td>\n",
              "      <td>[Action, Crime, Drama, Thriller]</td>\n",
              "      <td>[dc comics, crime fighter, terrorist, secret i...</td>\n",
              "      <td>[Christian Bale, Michael Caine, Gary Oldman]</td>\n",
              "      <td>[{\"credit_id\": \"52fe4781c3a36847f81398c3\", \"de...</td>\n",
              "    </tr>\n",
              "    <tr>\n",
              "      <th>4</th>\n",
              "      <td>49529</td>\n",
              "      <td>John Carter</td>\n",
              "      <td>John Carter is a war-weary, former military ca...</td>\n",
              "      <td>[Action, Adventure, Science Fiction]</td>\n",
              "      <td>[based on novel, mars, medallion, space travel...</td>\n",
              "      <td>[Taylor Kitsch, Lynn Collins, Samantha Morton]</td>\n",
              "      <td>[{\"credit_id\": \"52fe479ac3a36847f813eaa3\", \"de...</td>\n",
              "    </tr>\n",
              "  </tbody>\n",
              "</table>\n",
              "</div>\n",
              "    <div class=\"colab-df-buttons\">\n",
              "\n",
              "  <div class=\"colab-df-container\">\n",
              "    <button class=\"colab-df-convert\" onclick=\"convertToInteractive('df-3d480f9f-0d4b-4700-8e3f-f4b5e2b136b9')\"\n",
              "            title=\"Convert this dataframe to an interactive table.\"\n",
              "            style=\"display:none;\">\n",
              "\n",
              "  <svg xmlns=\"http://www.w3.org/2000/svg\" height=\"24px\" viewBox=\"0 -960 960 960\">\n",
              "    <path d=\"M120-120v-720h720v720H120Zm60-500h600v-160H180v160Zm220 220h160v-160H400v160Zm0 220h160v-160H400v160ZM180-400h160v-160H180v160Zm440 0h160v-160H620v160ZM180-180h160v-160H180v160Zm440 0h160v-160H620v160Z\"/>\n",
              "  </svg>\n",
              "    </button>\n",
              "\n",
              "  <style>\n",
              "    .colab-df-container {\n",
              "      display:flex;\n",
              "      gap: 12px;\n",
              "    }\n",
              "\n",
              "    .colab-df-convert {\n",
              "      background-color: #E8F0FE;\n",
              "      border: none;\n",
              "      border-radius: 50%;\n",
              "      cursor: pointer;\n",
              "      display: none;\n",
              "      fill: #1967D2;\n",
              "      height: 32px;\n",
              "      padding: 0 0 0 0;\n",
              "      width: 32px;\n",
              "    }\n",
              "\n",
              "    .colab-df-convert:hover {\n",
              "      background-color: #E2EBFA;\n",
              "      box-shadow: 0px 1px 2px rgba(60, 64, 67, 0.3), 0px 1px 3px 1px rgba(60, 64, 67, 0.15);\n",
              "      fill: #174EA6;\n",
              "    }\n",
              "\n",
              "    .colab-df-buttons div {\n",
              "      margin-bottom: 4px;\n",
              "    }\n",
              "\n",
              "    [theme=dark] .colab-df-convert {\n",
              "      background-color: #3B4455;\n",
              "      fill: #D2E3FC;\n",
              "    }\n",
              "\n",
              "    [theme=dark] .colab-df-convert:hover {\n",
              "      background-color: #434B5C;\n",
              "      box-shadow: 0px 1px 3px 1px rgba(0, 0, 0, 0.15);\n",
              "      filter: drop-shadow(0px 1px 2px rgba(0, 0, 0, 0.3));\n",
              "      fill: #FFFFFF;\n",
              "    }\n",
              "  </style>\n",
              "\n",
              "    <script>\n",
              "      const buttonEl =\n",
              "        document.querySelector('#df-3d480f9f-0d4b-4700-8e3f-f4b5e2b136b9 button.colab-df-convert');\n",
              "      buttonEl.style.display =\n",
              "        google.colab.kernel.accessAllowed ? 'block' : 'none';\n",
              "\n",
              "      async function convertToInteractive(key) {\n",
              "        const element = document.querySelector('#df-3d480f9f-0d4b-4700-8e3f-f4b5e2b136b9');\n",
              "        const dataTable =\n",
              "          await google.colab.kernel.invokeFunction('convertToInteractive',\n",
              "                                                    [key], {});\n",
              "        if (!dataTable) return;\n",
              "\n",
              "        const docLinkHtml = 'Like what you see? Visit the ' +\n",
              "          '<a target=\"_blank\" href=https://colab.research.google.com/notebooks/data_table.ipynb>data table notebook</a>'\n",
              "          + ' to learn more about interactive tables.';\n",
              "        element.innerHTML = '';\n",
              "        dataTable['output_type'] = 'display_data';\n",
              "        await google.colab.output.renderOutput(dataTable, element);\n",
              "        const docLink = document.createElement('div');\n",
              "        docLink.innerHTML = docLinkHtml;\n",
              "        element.appendChild(docLink);\n",
              "      }\n",
              "    </script>\n",
              "  </div>\n",
              "\n",
              "\n",
              "    <div id=\"df-0b02b11c-d80c-4089-87f2-1be673fb4625\">\n",
              "      <button class=\"colab-df-quickchart\" onclick=\"quickchart('df-0b02b11c-d80c-4089-87f2-1be673fb4625')\"\n",
              "                title=\"Suggest charts\"\n",
              "                style=\"display:none;\">\n",
              "\n",
              "<svg xmlns=\"http://www.w3.org/2000/svg\" height=\"24px\"viewBox=\"0 0 24 24\"\n",
              "     width=\"24px\">\n",
              "    <g>\n",
              "        <path d=\"M19 3H5c-1.1 0-2 .9-2 2v14c0 1.1.9 2 2 2h14c1.1 0 2-.9 2-2V5c0-1.1-.9-2-2-2zM9 17H7v-7h2v7zm4 0h-2V7h2v10zm4 0h-2v-4h2v4z\"/>\n",
              "    </g>\n",
              "</svg>\n",
              "      </button>\n",
              "\n",
              "<style>\n",
              "  .colab-df-quickchart {\n",
              "      --bg-color: #E8F0FE;\n",
              "      --fill-color: #1967D2;\n",
              "      --hover-bg-color: #E2EBFA;\n",
              "      --hover-fill-color: #174EA6;\n",
              "      --disabled-fill-color: #AAA;\n",
              "      --disabled-bg-color: #DDD;\n",
              "  }\n",
              "\n",
              "  [theme=dark] .colab-df-quickchart {\n",
              "      --bg-color: #3B4455;\n",
              "      --fill-color: #D2E3FC;\n",
              "      --hover-bg-color: #434B5C;\n",
              "      --hover-fill-color: #FFFFFF;\n",
              "      --disabled-bg-color: #3B4455;\n",
              "      --disabled-fill-color: #666;\n",
              "  }\n",
              "\n",
              "  .colab-df-quickchart {\n",
              "    background-color: var(--bg-color);\n",
              "    border: none;\n",
              "    border-radius: 50%;\n",
              "    cursor: pointer;\n",
              "    display: none;\n",
              "    fill: var(--fill-color);\n",
              "    height: 32px;\n",
              "    padding: 0;\n",
              "    width: 32px;\n",
              "  }\n",
              "\n",
              "  .colab-df-quickchart:hover {\n",
              "    background-color: var(--hover-bg-color);\n",
              "    box-shadow: 0 1px 2px rgba(60, 64, 67, 0.3), 0 1px 3px 1px rgba(60, 64, 67, 0.15);\n",
              "    fill: var(--button-hover-fill-color);\n",
              "  }\n",
              "\n",
              "  .colab-df-quickchart-complete:disabled,\n",
              "  .colab-df-quickchart-complete:disabled:hover {\n",
              "    background-color: var(--disabled-bg-color);\n",
              "    fill: var(--disabled-fill-color);\n",
              "    box-shadow: none;\n",
              "  }\n",
              "\n",
              "  .colab-df-spinner {\n",
              "    border: 2px solid var(--fill-color);\n",
              "    border-color: transparent;\n",
              "    border-bottom-color: var(--fill-color);\n",
              "    animation:\n",
              "      spin 1s steps(1) infinite;\n",
              "  }\n",
              "\n",
              "  @keyframes spin {\n",
              "    0% {\n",
              "      border-color: transparent;\n",
              "      border-bottom-color: var(--fill-color);\n",
              "      border-left-color: var(--fill-color);\n",
              "    }\n",
              "    20% {\n",
              "      border-color: transparent;\n",
              "      border-left-color: var(--fill-color);\n",
              "      border-top-color: var(--fill-color);\n",
              "    }\n",
              "    30% {\n",
              "      border-color: transparent;\n",
              "      border-left-color: var(--fill-color);\n",
              "      border-top-color: var(--fill-color);\n",
              "      border-right-color: var(--fill-color);\n",
              "    }\n",
              "    40% {\n",
              "      border-color: transparent;\n",
              "      border-right-color: var(--fill-color);\n",
              "      border-top-color: var(--fill-color);\n",
              "    }\n",
              "    60% {\n",
              "      border-color: transparent;\n",
              "      border-right-color: var(--fill-color);\n",
              "    }\n",
              "    80% {\n",
              "      border-color: transparent;\n",
              "      border-right-color: var(--fill-color);\n",
              "      border-bottom-color: var(--fill-color);\n",
              "    }\n",
              "    90% {\n",
              "      border-color: transparent;\n",
              "      border-bottom-color: var(--fill-color);\n",
              "    }\n",
              "  }\n",
              "</style>\n",
              "\n",
              "      <script>\n",
              "        async function quickchart(key) {\n",
              "          const quickchartButtonEl =\n",
              "            document.querySelector('#' + key + ' button');\n",
              "          quickchartButtonEl.disabled = true;  // To prevent multiple clicks.\n",
              "          quickchartButtonEl.classList.add('colab-df-spinner');\n",
              "          try {\n",
              "            const charts = await google.colab.kernel.invokeFunction(\n",
              "                'suggestCharts', [key], {});\n",
              "          } catch (error) {\n",
              "            console.error('Error during call to suggestCharts:', error);\n",
              "          }\n",
              "          quickchartButtonEl.classList.remove('colab-df-spinner');\n",
              "          quickchartButtonEl.classList.add('colab-df-quickchart-complete');\n",
              "        }\n",
              "        (() => {\n",
              "          let quickchartButtonEl =\n",
              "            document.querySelector('#df-0b02b11c-d80c-4089-87f2-1be673fb4625 button');\n",
              "          quickchartButtonEl.style.display =\n",
              "            google.colab.kernel.accessAllowed ? 'block' : 'none';\n",
              "        })();\n",
              "      </script>\n",
              "    </div>\n",
              "\n",
              "    </div>\n",
              "  </div>\n"
            ],
            "application/vnd.google.colaboratory.intrinsic+json": {
              "type": "dataframe",
              "variable_name": "df",
              "summary": "{\n  \"name\": \"df\",\n  \"rows\": 4801,\n  \"fields\": [\n    {\n      \"column\": \"movie_id\",\n      \"properties\": {\n        \"dtype\": \"string\",\n        \"num_unique_values\": 4795,\n        \"samples\": [\n          \"6947\",\n          \"9907\",\n          4967\n        ],\n        \"semantic_type\": \"\",\n        \"description\": \"\"\n      }\n    },\n    {\n      \"column\": \"title\",\n      \"properties\": {\n        \"dtype\": \"string\",\n        \"num_unique_values\": 4792,\n        \"samples\": [\n          \"The Village\",\n          \"Barnyard\",\n          \"Frost/Nixon\"\n        ],\n        \"semantic_type\": \"\",\n        \"description\": \"\"\n      }\n    },\n    {\n      \"column\": \"overview\",\n      \"properties\": {\n        \"dtype\": \"string\",\n        \"num_unique_values\": 4795,\n        \"samples\": [\n          \"When a willful young man tries to venture beyond his sequestered Pennsylvania hamlet, his actions set off a chain of chilling incidents that will alter the community forever.\",\n          \"When things get crazy at the farm, it's up to a boisterous bovine named Otis (voiced by Kevin James) to save the day in this computer-animated tale. The animals in this barnyard sing, dance and party, but Otis's stern dad (Sam Elliott) warns the crew to keep their cool around humans. Troublemaker Otis rarely listens to his pop, but when the farmer disappears and the animals go nutty, the young cow realizes he must stop the madness.\",\n          \"For three years after being forced from office, Nixon remained silent. But in summer 1977, the steely, cunning former commander-in-chief agreed to sit for one all-inclusive interview to confront the questions of his time in office and the Watergate scandal that ended his presidency. Nixon surprised everyone in selecting Frost as his televised confessor, intending to easily outfox the breezy British showman and secure a place in the hearts and minds of Americans. Likewise, Frost's team harboured doubts about their boss's ability to hold his own. But as the cameras rolled, a charged battle of wits resulted.\"\n        ],\n        \"semantic_type\": \"\",\n        \"description\": \"\"\n      }\n    },\n    {\n      \"column\": \"genres\",\n      \"properties\": {\n        \"dtype\": \"object\",\n        \"semantic_type\": \"\",\n        \"description\": \"\"\n      }\n    },\n    {\n      \"column\": \"keywords\",\n      \"properties\": {\n        \"dtype\": \"object\",\n        \"semantic_type\": \"\",\n        \"description\": \"\"\n      }\n    },\n    {\n      \"column\": \"cast\",\n      \"properties\": {\n        \"dtype\": \"object\",\n        \"semantic_type\": \"\",\n        \"description\": \"\"\n      }\n    },\n    {\n      \"column\": \"crew\",\n      \"properties\": {\n        \"dtype\": \"string\",\n        \"num_unique_values\": 4768,\n        \"samples\": [\n          \"[{\\\"credit_id\\\": \\\"52fe4691c3a36847f81061e5\\\", \\\"department\\\": \\\"Directing\\\", \\\"gender\\\": 2, \\\"id\\\": 190, \\\"job\\\": \\\"Director\\\", \\\"name\\\": \\\"Clint Eastwood\\\"}, {\\\"credit_id\\\": \\\"52fe4691c3a36847f810622b\\\", \\\"department\\\": \\\"Writing\\\", \\\"gender\\\": 2, \\\"id\\\": 15730, \\\"job\\\": \\\"Screenplay\\\", \\\"name\\\": \\\"Peter Morgan\\\"}]\",\n          \"[{\\\"credit_id\\\": \\\"52fe460dc3a36847f80e9a7f\\\", \\\"department\\\": \\\"Costume & Make-Up\\\", \\\"gender\\\": 1, \\\"id\\\": 4350, \\\"job\\\": \\\"Costume Design\\\", \\\"name\\\": \\\"Edith Head\\\"}, {\\\"credit_id\\\": \\\"52fe460dc3a36847f80e9a55\\\", \\\"department\\\": \\\"Writing\\\", \\\"gender\\\": 2, \\\"id\\\": 4415, \\\"job\\\": \\\"Original Story\\\", \\\"name\\\": \\\"Federico Fellini\\\"}, {\\\"credit_id\\\": \\\"52fe460dc3a36847f80e9a5b\\\", \\\"department\\\": \\\"Writing\\\", \\\"gender\\\": 2, \\\"id\\\": 5396, \\\"job\\\": \\\"Original Story\\\", \\\"name\\\": \\\"Tullio Pinelli\\\"}, {\\\"credit_id\\\": \\\"52fe460dc3a36847f80e9a61\\\", \\\"department\\\": \\\"Writing\\\", \\\"gender\\\": 2, \\\"id\\\": 5397, \\\"job\\\": \\\"Original Story\\\", \\\"name\\\": \\\"Ennio Flaiano\\\"}, {\\\"credit_id\\\": \\\"52fe460dc3a36847f80e9a73\\\", \\\"department\\\": \\\"Camera\\\", \\\"gender\\\": 2, \\\"id\\\": 10005, \\\"job\\\": \\\"Director of Photography\\\", \\\"name\\\": \\\"Robert Surtees\\\"}, {\\\"credit_id\\\": \\\"52fe460dc3a36847f80e9a67\\\", \\\"department\\\": \\\"Production\\\", \\\"gender\\\": 2, \\\"id\\\": 30103, \\\"job\\\": \\\"Producer\\\", \\\"name\\\": \\\"Robert Arthur\\\"}, {\\\"credit_id\\\": \\\"52fe460dc3a36847f80e9a79\\\", \\\"department\\\": \\\"Editing\\\", \\\"gender\\\": 2, \\\"id\\\": 30259, \\\"job\\\": \\\"Editor\\\", \\\"name\\\": \\\"Stuart Gilmore\\\"}, {\\\"credit_id\\\": \\\"52fe460dc3a36847f80e9a4f\\\", \\\"department\\\": \\\"Writing\\\", \\\"gender\\\": 2, \\\"id\\\": 41712, \\\"job\\\": \\\"Screenplay\\\", \\\"name\\\": \\\"Peter Stone\\\"}, {\\\"credit_id\\\": \\\"52fe460dc3a36847f80e9a6d\\\", \\\"department\\\": \\\"Sound\\\", \\\"gender\\\": 0, \\\"id\\\": 65617, \\\"job\\\": \\\"Original Music Composer\\\", \\\"name\\\": \\\"Cy Coleman\\\"}, {\\\"credit_id\\\": \\\"52fe460dc3a36847f80e9a35\\\", \\\"department\\\": \\\"Directing\\\", \\\"gender\\\": 0, \\\"id\\\": 66777, \\\"job\\\": \\\"Director\\\", \\\"name\\\": \\\"Bob Fosse\\\"}]\",\n          \"[{\\\"credit_id\\\": \\\"55478ac9c3a3680ce600ba28\\\", \\\"department\\\": \\\"Costume & Make-Up\\\", \\\"gender\\\": 1, \\\"id\\\": 946, \\\"job\\\": \\\"Costume Design\\\", \\\"name\\\": \\\"Janty Yates\\\"}, {\\\"credit_id\\\": \\\"55478a10c3a36856e5008989\\\", \\\"department\\\": \\\"Camera\\\", \\\"gender\\\": 2, \\\"id\\\": 3960, \\\"job\\\": \\\"Director of Photography\\\", \\\"name\\\": \\\"Tony Pierce-Roberts\\\"}, {\\\"credit_id\\\": \\\"52fe46459251416c75072ead\\\", \\\"department\\\": \\\"Writing\\\", \\\"gender\\\": 2, \\\"id\\\": 14393, \\\"job\\\": \\\"Author\\\", \\\"name\\\": \\\"Jay Cocks\\\"}, {\\\"credit_id\\\": \\\"55478a519251411889004f1d\\\", \\\"department\\\": \\\"Art\\\", \\\"gender\\\": 1, \\\"id\\\": 6379, \\\"job\\\": \\\"Production Design\\\", \\\"name\\\": \\\"Eve Stewart\\\"}, {\\\"credit_id\\\": \\\"55478e7992514111470045c0\\\", \\\"department\\\": \\\"Art\\\", \\\"gender\\\": 0, \\\"id\\\": 6381, \\\"job\\\": \\\"Assistant Art Director\\\", \\\"name\\\": \\\"Andrew Grant\\\"}, {\\\"credit_id\\\": \\\"52fe46459251416c75072ea7\\\", \\\"department\\\": \\\"Directing\\\", \\\"gender\\\": 2, \\\"id\\\": 11472, \\\"job\\\": \\\"Director\\\", \\\"name\\\": \\\"Irwin Winkler\\\"}, {\\\"credit_id\\\": \\\"554789f8c3a3680ce800b50c\\\", \\\"department\\\": \\\"Production\\\", \\\"gender\\\": 2, \\\"id\\\": 11472, \\\"job\\\": \\\"Producer\\\", \\\"name\\\": \\\"Irwin Winkler\\\"}, {\\\"credit_id\\\": \\\"554789e49251414c9200958e\\\", \\\"department\\\": \\\"Production\\\", \\\"gender\\\": 2, \\\"id\\\": 16487, \\\"job\\\": \\\"Producer\\\", \\\"name\\\": \\\"Charles Winkler\\\"}, {\\\"credit_id\\\": \\\"55478a379251411889004f1a\\\", \\\"department\\\": \\\"Production\\\", \\\"gender\\\": 1, \\\"id\\\": 16363, \\\"job\\\": \\\"Casting\\\", \\\"name\\\": \\\"Nina Gold\\\"}, {\\\"credit_id\\\": \\\"554789d19251414c9200958b\\\", \\\"department\\\": \\\"Production\\\", \\\"gender\\\": 2, \\\"id\\\": 18330, \\\"job\\\": \\\"Producer\\\", \\\"name\\\": \\\"Rob Cowan\\\"}, {\\\"credit_id\\\": \\\"55478a239251414c92009591\\\", \\\"department\\\": \\\"Editing\\\", \\\"gender\\\": 1, \\\"id\\\": 53645, \\\"job\\\": \\\"Editor\\\", \\\"name\\\": \\\"Julie Monroe\\\"}, {\\\"credit_id\\\": \\\"55478a8cc3a36856e500898e\\\", \\\"department\\\": \\\"Art\\\", \\\"gender\\\": 2, \\\"id\\\": 63131, \\\"job\\\": \\\"Art Direction\\\", \\\"name\\\": \\\"John Hill\\\"}, {\\\"credit_id\\\": \\\"56e7f13c92514109b4000c64\\\", \\\"department\\\": \\\"Art\\\", \\\"gender\\\": 2, \\\"id\\\": 66552, \\\"job\\\": \\\"Set Decoration\\\", \\\"name\\\": \\\"John Bush\\\"}, {\\\"credit_id\\\": \\\"55478e3dc3a36856e50089ca\\\", \\\"department\\\": \\\"Costume & Make-Up\\\", \\\"gender\\\": 0, \\\"id\\\": 1319843, \\\"job\\\": \\\"Makeup Artist\\\", \\\"name\\\": \\\"Felicity Bowring\\\"}, {\\\"credit_id\\\": \\\"55478ee79251414c920095ea\\\", \\\"department\\\": \\\"Costume & Make-Up\\\", \\\"gender\\\": 0, \\\"id\\\": 1322137, \\\"job\\\": \\\"Costume Supervisor\\\", \\\"name\\\": \\\"Clare Spragge\\\"}, {\\\"credit_id\\\": \\\"55478ebfc3a3680cd700bca3\\\", \\\"department\\\": \\\"Directing\\\", \\\"gender\\\": 0, \\\"id\\\": 1367566, \\\"job\\\": \\\"Script Supervisor\\\", \\\"name\\\": \\\"Libbie Barr\\\"}, {\\\"credit_id\\\": \\\"55478eaa9251411889004f71\\\", \\\"department\\\": \\\"Crew\\\", \\\"gender\\\": 0, \\\"id\\\": 1401118, \\\"job\\\": \\\"Choreographer\\\", \\\"name\\\": \\\"Francesca Jaynes\\\"}, {\\\"credit_id\\\": \\\"55478e18c3a3680cd700bc98\\\", \\\"department\\\": \\\"Costume & Make-Up\\\", \\\"gender\\\": 0, \\\"id\\\": 1462925, \\\"job\\\": \\\"Hairstylist\\\", \\\"name\\\": \\\"Beth Miller\\\"}]\"\n        ],\n        \"semantic_type\": \"\",\n        \"description\": \"\"\n      }\n    }\n  ]\n}"
            }
          },
          "metadata": {},
          "execution_count": 26
        }
      ]
    },
    {
      "cell_type": "code",
      "source": [
        "df['crew'] = df['crew'].apply(fetch_director)"
      ],
      "metadata": {
        "colab": {
          "base_uri": "https://localhost:8080/"
        },
        "id": "C_Ag4pW0usIP",
        "outputId": "01036288-8234-44bd-9908-f39680017a6b"
      },
      "execution_count": null,
      "outputs": [
        {
          "output_type": "stream",
          "name": "stderr",
          "text": [
            "/tmp/ipython-input-392151855.py:1: SettingWithCopyWarning: \n",
            "A value is trying to be set on a copy of a slice from a DataFrame.\n",
            "Try using .loc[row_indexer,col_indexer] = value instead\n",
            "\n",
            "See the caveats in the documentation: https://pandas.pydata.org/pandas-docs/stable/user_guide/indexing.html#returning-a-view-versus-a-copy\n",
            "  df['crew'] = df['crew'].apply(fetch_director)\n"
          ]
        }
      ]
    },
    {
      "cell_type": "code",
      "source": [
        "df['overview'] = df['overview'].apply(lambda x : x.split())"
      ],
      "metadata": {
        "colab": {
          "base_uri": "https://localhost:8080/"
        },
        "collapsed": true,
        "id": "TraLcksE4TPx",
        "outputId": "eba90dc3-a3e1-4c77-878a-f5a9a7bd0bf9"
      },
      "execution_count": null,
      "outputs": [
        {
          "output_type": "stream",
          "name": "stderr",
          "text": [
            "/tmp/ipython-input-618097438.py:1: SettingWithCopyWarning: \n",
            "A value is trying to be set on a copy of a slice from a DataFrame.\n",
            "Try using .loc[row_indexer,col_indexer] = value instead\n",
            "\n",
            "See the caveats in the documentation: https://pandas.pydata.org/pandas-docs/stable/user_guide/indexing.html#returning-a-view-versus-a-copy\n",
            "  df['overview'] = df['overview'].apply(lambda x : x.split())\n"
          ]
        }
      ]
    },
    {
      "cell_type": "code",
      "source": [
        "df['genres'] = df['genres'].apply(lambda x :[i.replace(\" \",\"\") for i in x])\n",
        "df['keywords'] = df['keywords'].apply(lambda x :[i.replace(\" \",\"\") for i in x])\n",
        "df['cast'] = df['cast'].apply(lambda x :[i.replace(\" \",\"\") for i in x])\n",
        "df['crew'] = df['crew'].apply(lambda x :[i.replace(\" \",\"\") for i in x])"
      ],
      "metadata": {
        "colab": {
          "base_uri": "https://localhost:8080/"
        },
        "collapsed": true,
        "id": "8PejVi3K5VDx",
        "outputId": "3a28c5bf-1b23-49d6-c7b5-ea04e5d8515d"
      },
      "execution_count": null,
      "outputs": [
        {
          "output_type": "stream",
          "name": "stderr",
          "text": [
            "/tmp/ipython-input-4244002053.py:1: SettingWithCopyWarning: \n",
            "A value is trying to be set on a copy of a slice from a DataFrame.\n",
            "Try using .loc[row_indexer,col_indexer] = value instead\n",
            "\n",
            "See the caveats in the documentation: https://pandas.pydata.org/pandas-docs/stable/user_guide/indexing.html#returning-a-view-versus-a-copy\n",
            "  df['genres'] = df['genres'].apply(lambda x :[i.replace(\" \",\"\") for i in x])\n",
            "/tmp/ipython-input-4244002053.py:2: SettingWithCopyWarning: \n",
            "A value is trying to be set on a copy of a slice from a DataFrame.\n",
            "Try using .loc[row_indexer,col_indexer] = value instead\n",
            "\n",
            "See the caveats in the documentation: https://pandas.pydata.org/pandas-docs/stable/user_guide/indexing.html#returning-a-view-versus-a-copy\n",
            "  df['keywords'] = df['keywords'].apply(lambda x :[i.replace(\" \",\"\") for i in x])\n",
            "/tmp/ipython-input-4244002053.py:3: SettingWithCopyWarning: \n",
            "A value is trying to be set on a copy of a slice from a DataFrame.\n",
            "Try using .loc[row_indexer,col_indexer] = value instead\n",
            "\n",
            "See the caveats in the documentation: https://pandas.pydata.org/pandas-docs/stable/user_guide/indexing.html#returning-a-view-versus-a-copy\n",
            "  df['cast'] = df['cast'].apply(lambda x :[i.replace(\" \",\"\") for i in x])\n",
            "/tmp/ipython-input-4244002053.py:4: SettingWithCopyWarning: \n",
            "A value is trying to be set on a copy of a slice from a DataFrame.\n",
            "Try using .loc[row_indexer,col_indexer] = value instead\n",
            "\n",
            "See the caveats in the documentation: https://pandas.pydata.org/pandas-docs/stable/user_guide/indexing.html#returning-a-view-versus-a-copy\n",
            "  df['crew'] = df['crew'].apply(lambda x :[i.replace(\" \",\"\") for i in x])\n"
          ]
        }
      ]
    },
    {
      "cell_type": "code",
      "source": [
        "df['tages'] = df['overview'] + df['genres'] + df['keywords'] + df['cast'] + df['crew']"
      ],
      "metadata": {
        "colab": {
          "base_uri": "https://localhost:8080/"
        },
        "collapsed": true,
        "id": "MvNswiv17axp",
        "outputId": "ec19836f-8519-410a-ed8f-53ca1698dd86"
      },
      "execution_count": null,
      "outputs": [
        {
          "output_type": "stream",
          "name": "stderr",
          "text": [
            "/tmp/ipython-input-1617490309.py:1: SettingWithCopyWarning: \n",
            "A value is trying to be set on a copy of a slice from a DataFrame.\n",
            "Try using .loc[row_indexer,col_indexer] = value instead\n",
            "\n",
            "See the caveats in the documentation: https://pandas.pydata.org/pandas-docs/stable/user_guide/indexing.html#returning-a-view-versus-a-copy\n",
            "  df['tages'] = df['overview'] + df['genres'] + df['keywords'] + df['cast'] + df['crew']\n"
          ]
        }
      ]
    },
    {
      "cell_type": "code",
      "source": [
        "new_df = df[['movie_id','title','tages']]\n",
        "new_df['tages'] = new_df['tages'].apply(lambda x: \" \".join(x))"
      ],
      "metadata": {
        "colab": {
          "base_uri": "https://localhost:8080/"
        },
        "collapsed": true,
        "id": "oTfJkt7S7mkS",
        "outputId": "2a246995-ab30-4324-bc50-1fbe5d7264b8"
      },
      "execution_count": null,
      "outputs": [
        {
          "output_type": "stream",
          "name": "stderr",
          "text": [
            "/tmp/ipython-input-1113911647.py:2: SettingWithCopyWarning: \n",
            "A value is trying to be set on a copy of a slice from a DataFrame.\n",
            "Try using .loc[row_indexer,col_indexer] = value instead\n",
            "\n",
            "See the caveats in the documentation: https://pandas.pydata.org/pandas-docs/stable/user_guide/indexing.html#returning-a-view-versus-a-copy\n",
            "  new_df['tages'] = new_df['tages'].apply(lambda x: \" \".join(x))\n"
          ]
        }
      ]
    },
    {
      "cell_type": "code",
      "source": [
        "new_df['tages'] = new_df['tages'].apply(lambda x : x.lower())\n",
        "new_df.head()"
      ],
      "metadata": {
        "colab": {
          "base_uri": "https://localhost:8080/",
          "height": 310
        },
        "collapsed": true,
        "id": "MDb3UTso8ukd",
        "outputId": "b92d181a-74f5-4fcb-ebc5-f742352a2acf"
      },
      "execution_count": null,
      "outputs": [
        {
          "output_type": "stream",
          "name": "stderr",
          "text": [
            "/tmp/ipython-input-2252642154.py:1: SettingWithCopyWarning: \n",
            "A value is trying to be set on a copy of a slice from a DataFrame.\n",
            "Try using .loc[row_indexer,col_indexer] = value instead\n",
            "\n",
            "See the caveats in the documentation: https://pandas.pydata.org/pandas-docs/stable/user_guide/indexing.html#returning-a-view-versus-a-copy\n",
            "  new_df['tages'] = new_df['tages'].apply(lambda x : x.lower())\n"
          ]
        },
        {
          "output_type": "execute_result",
          "data": {
            "text/plain": [
              "  movie_id                                     title  \\\n",
              "0    19995                                    Avatar   \n",
              "1      285  Pirates of the Caribbean: At World's End   \n",
              "2   206647                                   Spectre   \n",
              "3    49026                     The Dark Knight Rises   \n",
              "4    49529                               John Carter   \n",
              "\n",
              "                                               tages  \n",
              "0  in the 22nd century, a paraplegic marine is di...  \n",
              "1  captain barbossa, long believed to be dead, ha...  \n",
              "2  a cryptic message from bond’s past sends him o...  \n",
              "3  following the death of district attorney harve...  \n",
              "4  john carter is a war-weary, former military ca...  "
            ],
            "text/html": [
              "\n",
              "  <div id=\"df-07b248a0-8c02-4e03-9ef1-346927c92e7c\" class=\"colab-df-container\">\n",
              "    <div>\n",
              "<style scoped>\n",
              "    .dataframe tbody tr th:only-of-type {\n",
              "        vertical-align: middle;\n",
              "    }\n",
              "\n",
              "    .dataframe tbody tr th {\n",
              "        vertical-align: top;\n",
              "    }\n",
              "\n",
              "    .dataframe thead th {\n",
              "        text-align: right;\n",
              "    }\n",
              "</style>\n",
              "<table border=\"1\" class=\"dataframe\">\n",
              "  <thead>\n",
              "    <tr style=\"text-align: right;\">\n",
              "      <th></th>\n",
              "      <th>movie_id</th>\n",
              "      <th>title</th>\n",
              "      <th>tages</th>\n",
              "    </tr>\n",
              "  </thead>\n",
              "  <tbody>\n",
              "    <tr>\n",
              "      <th>0</th>\n",
              "      <td>19995</td>\n",
              "      <td>Avatar</td>\n",
              "      <td>in the 22nd century, a paraplegic marine is di...</td>\n",
              "    </tr>\n",
              "    <tr>\n",
              "      <th>1</th>\n",
              "      <td>285</td>\n",
              "      <td>Pirates of the Caribbean: At World's End</td>\n",
              "      <td>captain barbossa, long believed to be dead, ha...</td>\n",
              "    </tr>\n",
              "    <tr>\n",
              "      <th>2</th>\n",
              "      <td>206647</td>\n",
              "      <td>Spectre</td>\n",
              "      <td>a cryptic message from bond’s past sends him o...</td>\n",
              "    </tr>\n",
              "    <tr>\n",
              "      <th>3</th>\n",
              "      <td>49026</td>\n",
              "      <td>The Dark Knight Rises</td>\n",
              "      <td>following the death of district attorney harve...</td>\n",
              "    </tr>\n",
              "    <tr>\n",
              "      <th>4</th>\n",
              "      <td>49529</td>\n",
              "      <td>John Carter</td>\n",
              "      <td>john carter is a war-weary, former military ca...</td>\n",
              "    </tr>\n",
              "  </tbody>\n",
              "</table>\n",
              "</div>\n",
              "    <div class=\"colab-df-buttons\">\n",
              "\n",
              "  <div class=\"colab-df-container\">\n",
              "    <button class=\"colab-df-convert\" onclick=\"convertToInteractive('df-07b248a0-8c02-4e03-9ef1-346927c92e7c')\"\n",
              "            title=\"Convert this dataframe to an interactive table.\"\n",
              "            style=\"display:none;\">\n",
              "\n",
              "  <svg xmlns=\"http://www.w3.org/2000/svg\" height=\"24px\" viewBox=\"0 -960 960 960\">\n",
              "    <path d=\"M120-120v-720h720v720H120Zm60-500h600v-160H180v160Zm220 220h160v-160H400v160Zm0 220h160v-160H400v160ZM180-400h160v-160H180v160Zm440 0h160v-160H620v160ZM180-180h160v-160H180v160Zm440 0h160v-160H620v160Z\"/>\n",
              "  </svg>\n",
              "    </button>\n",
              "\n",
              "  <style>\n",
              "    .colab-df-container {\n",
              "      display:flex;\n",
              "      gap: 12px;\n",
              "    }\n",
              "\n",
              "    .colab-df-convert {\n",
              "      background-color: #E8F0FE;\n",
              "      border: none;\n",
              "      border-radius: 50%;\n",
              "      cursor: pointer;\n",
              "      display: none;\n",
              "      fill: #1967D2;\n",
              "      height: 32px;\n",
              "      padding: 0 0 0 0;\n",
              "      width: 32px;\n",
              "    }\n",
              "\n",
              "    .colab-df-convert:hover {\n",
              "      background-color: #E2EBFA;\n",
              "      box-shadow: 0px 1px 2px rgba(60, 64, 67, 0.3), 0px 1px 3px 1px rgba(60, 64, 67, 0.15);\n",
              "      fill: #174EA6;\n",
              "    }\n",
              "\n",
              "    .colab-df-buttons div {\n",
              "      margin-bottom: 4px;\n",
              "    }\n",
              "\n",
              "    [theme=dark] .colab-df-convert {\n",
              "      background-color: #3B4455;\n",
              "      fill: #D2E3FC;\n",
              "    }\n",
              "\n",
              "    [theme=dark] .colab-df-convert:hover {\n",
              "      background-color: #434B5C;\n",
              "      box-shadow: 0px 1px 3px 1px rgba(0, 0, 0, 0.15);\n",
              "      filter: drop-shadow(0px 1px 2px rgba(0, 0, 0, 0.3));\n",
              "      fill: #FFFFFF;\n",
              "    }\n",
              "  </style>\n",
              "\n",
              "    <script>\n",
              "      const buttonEl =\n",
              "        document.querySelector('#df-07b248a0-8c02-4e03-9ef1-346927c92e7c button.colab-df-convert');\n",
              "      buttonEl.style.display =\n",
              "        google.colab.kernel.accessAllowed ? 'block' : 'none';\n",
              "\n",
              "      async function convertToInteractive(key) {\n",
              "        const element = document.querySelector('#df-07b248a0-8c02-4e03-9ef1-346927c92e7c');\n",
              "        const dataTable =\n",
              "          await google.colab.kernel.invokeFunction('convertToInteractive',\n",
              "                                                    [key], {});\n",
              "        if (!dataTable) return;\n",
              "\n",
              "        const docLinkHtml = 'Like what you see? Visit the ' +\n",
              "          '<a target=\"_blank\" href=https://colab.research.google.com/notebooks/data_table.ipynb>data table notebook</a>'\n",
              "          + ' to learn more about interactive tables.';\n",
              "        element.innerHTML = '';\n",
              "        dataTable['output_type'] = 'display_data';\n",
              "        await google.colab.output.renderOutput(dataTable, element);\n",
              "        const docLink = document.createElement('div');\n",
              "        docLink.innerHTML = docLinkHtml;\n",
              "        element.appendChild(docLink);\n",
              "      }\n",
              "    </script>\n",
              "  </div>\n",
              "\n",
              "\n",
              "    <div id=\"df-ecdfa3ac-0445-4874-acc7-e2c10cab65c8\">\n",
              "      <button class=\"colab-df-quickchart\" onclick=\"quickchart('df-ecdfa3ac-0445-4874-acc7-e2c10cab65c8')\"\n",
              "                title=\"Suggest charts\"\n",
              "                style=\"display:none;\">\n",
              "\n",
              "<svg xmlns=\"http://www.w3.org/2000/svg\" height=\"24px\"viewBox=\"0 0 24 24\"\n",
              "     width=\"24px\">\n",
              "    <g>\n",
              "        <path d=\"M19 3H5c-1.1 0-2 .9-2 2v14c0 1.1.9 2 2 2h14c1.1 0 2-.9 2-2V5c0-1.1-.9-2-2-2zM9 17H7v-7h2v7zm4 0h-2V7h2v10zm4 0h-2v-4h2v4z\"/>\n",
              "    </g>\n",
              "</svg>\n",
              "      </button>\n",
              "\n",
              "<style>\n",
              "  .colab-df-quickchart {\n",
              "      --bg-color: #E8F0FE;\n",
              "      --fill-color: #1967D2;\n",
              "      --hover-bg-color: #E2EBFA;\n",
              "      --hover-fill-color: #174EA6;\n",
              "      --disabled-fill-color: #AAA;\n",
              "      --disabled-bg-color: #DDD;\n",
              "  }\n",
              "\n",
              "  [theme=dark] .colab-df-quickchart {\n",
              "      --bg-color: #3B4455;\n",
              "      --fill-color: #D2E3FC;\n",
              "      --hover-bg-color: #434B5C;\n",
              "      --hover-fill-color: #FFFFFF;\n",
              "      --disabled-bg-color: #3B4455;\n",
              "      --disabled-fill-color: #666;\n",
              "  }\n",
              "\n",
              "  .colab-df-quickchart {\n",
              "    background-color: var(--bg-color);\n",
              "    border: none;\n",
              "    border-radius: 50%;\n",
              "    cursor: pointer;\n",
              "    display: none;\n",
              "    fill: var(--fill-color);\n",
              "    height: 32px;\n",
              "    padding: 0;\n",
              "    width: 32px;\n",
              "  }\n",
              "\n",
              "  .colab-df-quickchart:hover {\n",
              "    background-color: var(--hover-bg-color);\n",
              "    box-shadow: 0 1px 2px rgba(60, 64, 67, 0.3), 0 1px 3px 1px rgba(60, 64, 67, 0.15);\n",
              "    fill: var(--button-hover-fill-color);\n",
              "  }\n",
              "\n",
              "  .colab-df-quickchart-complete:disabled,\n",
              "  .colab-df-quickchart-complete:disabled:hover {\n",
              "    background-color: var(--disabled-bg-color);\n",
              "    fill: var(--disabled-fill-color);\n",
              "    box-shadow: none;\n",
              "  }\n",
              "\n",
              "  .colab-df-spinner {\n",
              "    border: 2px solid var(--fill-color);\n",
              "    border-color: transparent;\n",
              "    border-bottom-color: var(--fill-color);\n",
              "    animation:\n",
              "      spin 1s steps(1) infinite;\n",
              "  }\n",
              "\n",
              "  @keyframes spin {\n",
              "    0% {\n",
              "      border-color: transparent;\n",
              "      border-bottom-color: var(--fill-color);\n",
              "      border-left-color: var(--fill-color);\n",
              "    }\n",
              "    20% {\n",
              "      border-color: transparent;\n",
              "      border-left-color: var(--fill-color);\n",
              "      border-top-color: var(--fill-color);\n",
              "    }\n",
              "    30% {\n",
              "      border-color: transparent;\n",
              "      border-left-color: var(--fill-color);\n",
              "      border-top-color: var(--fill-color);\n",
              "      border-right-color: var(--fill-color);\n",
              "    }\n",
              "    40% {\n",
              "      border-color: transparent;\n",
              "      border-right-color: var(--fill-color);\n",
              "      border-top-color: var(--fill-color);\n",
              "    }\n",
              "    60% {\n",
              "      border-color: transparent;\n",
              "      border-right-color: var(--fill-color);\n",
              "    }\n",
              "    80% {\n",
              "      border-color: transparent;\n",
              "      border-right-color: var(--fill-color);\n",
              "      border-bottom-color: var(--fill-color);\n",
              "    }\n",
              "    90% {\n",
              "      border-color: transparent;\n",
              "      border-bottom-color: var(--fill-color);\n",
              "    }\n",
              "  }\n",
              "</style>\n",
              "\n",
              "      <script>\n",
              "        async function quickchart(key) {\n",
              "          const quickchartButtonEl =\n",
              "            document.querySelector('#' + key + ' button');\n",
              "          quickchartButtonEl.disabled = true;  // To prevent multiple clicks.\n",
              "          quickchartButtonEl.classList.add('colab-df-spinner');\n",
              "          try {\n",
              "            const charts = await google.colab.kernel.invokeFunction(\n",
              "                'suggestCharts', [key], {});\n",
              "          } catch (error) {\n",
              "            console.error('Error during call to suggestCharts:', error);\n",
              "          }\n",
              "          quickchartButtonEl.classList.remove('colab-df-spinner');\n",
              "          quickchartButtonEl.classList.add('colab-df-quickchart-complete');\n",
              "        }\n",
              "        (() => {\n",
              "          let quickchartButtonEl =\n",
              "            document.querySelector('#df-ecdfa3ac-0445-4874-acc7-e2c10cab65c8 button');\n",
              "          quickchartButtonEl.style.display =\n",
              "            google.colab.kernel.accessAllowed ? 'block' : 'none';\n",
              "        })();\n",
              "      </script>\n",
              "    </div>\n",
              "\n",
              "    </div>\n",
              "  </div>\n"
            ],
            "application/vnd.google.colaboratory.intrinsic+json": {
              "type": "dataframe",
              "variable_name": "new_df",
              "summary": "{\n  \"name\": \"new_df\",\n  \"rows\": 4801,\n  \"fields\": [\n    {\n      \"column\": \"movie_id\",\n      \"properties\": {\n        \"dtype\": \"string\",\n        \"num_unique_values\": 4795,\n        \"samples\": [\n          \"6947\",\n          \"9907\",\n          4967\n        ],\n        \"semantic_type\": \"\",\n        \"description\": \"\"\n      }\n    },\n    {\n      \"column\": \"title\",\n      \"properties\": {\n        \"dtype\": \"string\",\n        \"num_unique_values\": 4792,\n        \"samples\": [\n          \"The Village\",\n          \"Barnyard\",\n          \"Frost/Nixon\"\n        ],\n        \"semantic_type\": \"\",\n        \"description\": \"\"\n      }\n    },\n    {\n      \"column\": \"tages\",\n      \"properties\": {\n        \"dtype\": \"string\",\n        \"num_unique_values\": 4801,\n        \"samples\": [\n          \"after being held in a coma-like state for fifteen years, vampire selene learns that she has a fourteen-year-old vampire/lycan hybrid daughter named nissa, and when she finds her, they must stop biocom from creating super lycans that will kill them all. fantasy action horror vampire daughter hybrid childvampire werewolf imax labexperiment werewolfchild fangvamp katebeckinsale stephenrea michaelealy m\\u00e5nsm\\u00e5rlind\",\n          \"a story of love and obsession. a young radio personality who, after her mother dies, discovers she had been having a love affair for 15 years. now she finds herself recreating her mother's romance by getting involved with a married man. drama thriller obsession radio nudity letter love romance lingerie extramaritalaffair womandirector jamieleecurtis bonniebartlett mattclark amyholdenjones\",\n          \"after losing an acting role and his girlfriend, jake scully finally catches a break: he gets offered a gig house-sitting in the hollywood hills. while peering through the beautiful home's telescope one night, he spies a gorgeous blonde dancing in her window. but when he witnesses the girl's murder, it leads scully through the netherworld of the adult entertainment industry on a search for answers -- with porn actress holly body as his guide. crime mystery horror thriller femalenudity pornography claustrophobia nudity witness police movieinmovie murder neighbor losangeles peepingtom pornactress strugglingactor voyeurism actor craigwasson melaniegriffith gregghenry briandepalma\"\n        ],\n        \"semantic_type\": \"\",\n        \"description\": \"\"\n      }\n    }\n  ]\n}"
            }
          },
          "metadata": {},
          "execution_count": 32
        }
      ]
    },
    {
      "cell_type": "code",
      "source": [
        "new_df['tages'][1]"
      ],
      "metadata": {
        "colab": {
          "base_uri": "https://localhost:8080/",
          "height": 88
        },
        "id": "VeY9vX8qP5zh",
        "outputId": "60df206d-87ba-4f10-c83b-448ec27c75cb"
      },
      "execution_count": null,
      "outputs": [
        {
          "output_type": "execute_result",
          "data": {
            "text/plain": [
              "\"captain barbossa, long believed to be dead, has come back to life and is headed to the edge of the earth with will turner and elizabeth swann. but nothing is quite as it seems. adventure fantasy action ocean drugabuse exoticisland eastindiatradingcompany loveofone'slife traitor shipwreck strongwoman ship alliance calypso afterlife fighter pirate swashbuckler aftercreditsstinger johnnydepp orlandobloom keiraknightley goreverbinski\""
            ],
            "application/vnd.google.colaboratory.intrinsic+json": {
              "type": "string"
            }
          },
          "metadata": {},
          "execution_count": 33
        }
      ]
    },
    {
      "cell_type": "code",
      "source": [
        "from sklearn.feature_extraction.text import CountVectorizer\n",
        "cv = CountVectorizer(max_features=5000,stop_words='english')"
      ],
      "metadata": {
        "id": "qVlW8W4mQrdJ"
      },
      "execution_count": null,
      "outputs": []
    },
    {
      "cell_type": "code",
      "source": [
        "vectors = cv.fit_transform(new_df['tages']).toarray()"
      ],
      "metadata": {
        "id": "wQcNEhcNQ279"
      },
      "execution_count": null,
      "outputs": []
    },
    {
      "cell_type": "code",
      "source": [
        "cv.get_feature_names_out()"
      ],
      "metadata": {
        "colab": {
          "base_uri": "https://localhost:8080/"
        },
        "id": "9SUMSzTJQ86K",
        "outputId": "e11a3131-46fc-46c7-bb2d-ef344cd44473"
      },
      "execution_count": null,
      "outputs": [
        {
          "output_type": "execute_result",
          "data": {
            "text/plain": [
              "array(['000', '007', '10', ..., 'zone', 'zoo', 'zooeydeschanel'],\n",
              "      dtype=object)"
            ]
          },
          "metadata": {},
          "execution_count": 36
        }
      ]
    },
    {
      "cell_type": "code",
      "source": [
        "!pip install --upgrade nltk"
      ],
      "metadata": {
        "colab": {
          "base_uri": "https://localhost:8080/"
        },
        "collapsed": true,
        "id": "p-Ej3ncHYlvS",
        "outputId": "df0cf05b-f1fb-4360-9c09-fe97301c868c"
      },
      "execution_count": null,
      "outputs": [
        {
          "output_type": "stream",
          "name": "stdout",
          "text": [
            "Requirement already satisfied: nltk in /usr/local/lib/python3.11/dist-packages (3.9.1)\n",
            "Requirement already satisfied: click in /usr/local/lib/python3.11/dist-packages (from nltk) (8.2.1)\n",
            "Requirement already satisfied: joblib in /usr/local/lib/python3.11/dist-packages (from nltk) (1.5.1)\n",
            "Requirement already satisfied: regex>=2021.8.3 in /usr/local/lib/python3.11/dist-packages (from nltk) (2024.11.6)\n",
            "Requirement already satisfied: tqdm in /usr/local/lib/python3.11/dist-packages (from nltk) (4.67.1)\n"
          ]
        }
      ]
    },
    {
      "cell_type": "code",
      "source": [
        "import nltk\n",
        "from nltk.stem.porter import PorterStemmer\n",
        "ps = PorterStemmer()"
      ],
      "metadata": {
        "id": "_J2n6rW_YaVF"
      },
      "execution_count": null,
      "outputs": []
    },
    {
      "cell_type": "code",
      "source": [
        "def stem(text):\n",
        "  y = []\n",
        "  for i in text.split():\n",
        "    y.append(ps.stem(i))\n",
        "\n",
        "  return \" \".join(y)"
      ],
      "metadata": {
        "id": "kBqwNJKvZQXO"
      },
      "execution_count": null,
      "outputs": []
    },
    {
      "cell_type": "code",
      "source": [
        "from sklearn.metrics.pairwise import cosine_similarity"
      ],
      "metadata": {
        "id": "7GF3ViD5Z5VP"
      },
      "execution_count": null,
      "outputs": []
    },
    {
      "cell_type": "code",
      "source": [
        "similarity = cosine_similarity(vectors)\n",
        "# similarity"
      ],
      "metadata": {
        "id": "XSBw1wnwlq8C"
      },
      "execution_count": null,
      "outputs": []
    },
    {
      "cell_type": "code",
      "source": [
        "def recommend(movie):\n",
        "  movie_index = new_df[new_df['title'] == movie].index[0]\n",
        "  distances = similarity[movie_index]\n",
        "  movies_list = sorted(list(enumerate(distances)),reverse=True,key=lambda x:x[1])[1:6]\n",
        "\n",
        "  for i in movies_list:\n",
        "    print(new_df.iloc[i[0]].title)"
      ],
      "metadata": {
        "id": "VMLl-N4OmGg4"
      },
      "execution_count": null,
      "outputs": []
    },
    {
      "cell_type": "code",
      "source": [
        "recommend('Khiladi 786')"
      ],
      "metadata": {
        "colab": {
          "base_uri": "https://localhost:8080/"
        },
        "id": "zcDHJRfEmYg3",
        "outputId": "ce06a528-a1cb-40e1-9c92-270b19d9620c"
      },
      "execution_count": null,
      "outputs": [
        {
          "output_type": "stream",
          "name": "stdout",
          "text": [
            "Seabiscuit\n",
            "The Longshots\n",
            "The 33\n",
            "Find Me Guilty\n",
            "Bloody Sunday\n"
          ]
        }
      ]
    },
    {
      "cell_type": "code",
      "source": [
        "import pickle\n",
        "pickle.dump(new_df,open('movies.pkl','wb'))"
      ],
      "metadata": {
        "id": "i_0CyPkomReR"
      },
      "execution_count": null,
      "outputs": []
    },
    {
      "cell_type": "code",
      "source": [
        "pickle.dump(similarity,open('similarity.pkl','wb'))"
      ],
      "metadata": {
        "id": "8_enQZK9nzgY"
      },
      "execution_count": null,
      "outputs": []
    }
  ]
}